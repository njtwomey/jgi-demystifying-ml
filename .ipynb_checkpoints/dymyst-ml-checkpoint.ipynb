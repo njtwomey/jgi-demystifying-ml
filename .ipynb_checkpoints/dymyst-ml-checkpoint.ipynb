{
 "cells": [
  {
   "cell_type": "markdown",
   "metadata": {},
   "source": [
    "# Demystifying Machine Learning Demo Session\n",
    "\n",
    "Peter Flach and Niall Twomey\n",
    "\n",
    "Tuesday, 5th of December 2017"
   ]
  },
  {
   "cell_type": "markdown",
   "metadata": {},
   "source": [
    "## Typical Machine Learning Pipeline\n",
    "\n",
    "Need to prepare data into a matrix of observations X and a vector of labels y. \n",
    "\n",
    "![Machine Learning Pipeline](ml-pipeline.jpg)"
   ]
  },
  {
   "cell_type": "markdown",
   "metadata": {},
   "source": [
    "## CASAS Dataset\n",
    "\n",
    "This notebook considers the CASAS dataset. This is a dataset collected in a smart environment. As participants interact with the house, sensors record their interactions. There are a number of different sensor types including motion, door contact, light, temperature, water flow, etc.\n",
    "\n",
    "This notebook goes through a number of common issues in data science and machine learning pipelines when working with real data. Namely, several issues relating to dates, sensor values, etc. This are dealt with consistently using the functionality provided by the pandas library.\n",
    "\n",
    "The objective is to fix all errors (if we can), and then to convert the timeseries data to a form that would be recognisable by a machine learning algorithm. I have attempted to comment my code where possible to explain my thought processes. At several points in this script I could have taken shortcuts, but I also attempted to forgo brevity for clarity.\n",
    "\n",
    "Resources: \n",
    "- CASAS homepage: http://casas.wsu.edu\n",
    "- Pandas library: https://pandas.pydata.org/\n",
    "- SKLearn library: http://scikit-learn.org/"
   ]
  },
  {
   "cell_type": "markdown",
   "metadata": {},
   "source": [
    "![CASAS Testbed](sensorlayout.jpg)"
   ]
  },
  {
   "cell_type": "code",
   "execution_count": 1,
   "metadata": {},
   "outputs": [],
   "source": [
    "# Set up the libraries that we need to use \n",
    "\n",
    "from os.path import join \n",
    "\n",
    "import matplotlib.pyplot as pl \n",
    "import seaborn as sns \n",
    "\n",
    "from pprint import pprint\n",
    "\n",
    "import pandas as pd\n",
    "import numpy as np\n",
    "\n",
    "from datetime import datetime, timedelta\n",
    "\n",
    "from subprocess import call\n",
    "\n",
    "% matplotlib inline \n",
    "\n",
    "sns.set_style('darkgrid') \n",
    "sns.set_context('poster')"
   ]
  },
  {
   "cell_type": "code",
   "execution_count": 2,
   "metadata": {},
   "outputs": [
    {
     "name": "stdout",
     "output_type": "stream",
     "text": [
      "     url: http://casas.wsu.edu/datasets/twor.2009.zip\n",
      " zipfile: twor.2009.zip\n",
      " dirname: twor.2009\n",
      "filename: twor.2009/data\n"
     ]
    },
    {
     "data": {
      "text/plain": [
       "0"
      ]
     },
     "execution_count": 2,
     "metadata": {},
     "output_type": "execute_result"
    }
   ],
   "source": [
    "# Download the data \n",
    "\n",
    "url = 'http://casas.wsu.edu/datasets/twor.2009.zip'\n",
    "\n",
    "zipfile = url.split('/')[-1]\n",
    "dirname = '.'.join(zipfile.split('.')[:2])\n",
    "filename = join(dirname, 'data')\n",
    "\n",
    "print('     url: {}'.format(url))\n",
    "print(' zipfile: {}'.format(zipfile))\n",
    "print(' dirname: {}'.format(dirname))\n",
    "print('filename: {}'.format(filename))\n",
    "\n",
    "call(('wget', url))\n",
    "call(('unzip', zipfile))\n",
    "call(('rm', 'twor.2009.zip'))"
   ]
  },
  {
   "cell_type": "code",
   "execution_count": 3,
   "metadata": {},
   "outputs": [
    {
     "data": {
      "text/html": [
       "<div>\n",
       "<style scoped>\n",
       "    .dataframe tbody tr th:only-of-type {\n",
       "        vertical-align: middle;\n",
       "    }\n",
       "\n",
       "    .dataframe tbody tr th {\n",
       "        vertical-align: top;\n",
       "    }\n",
       "\n",
       "    .dataframe thead th {\n",
       "        text-align: right;\n",
       "    }\n",
       "</style>\n",
       "<table border=\"1\" class=\"dataframe\">\n",
       "  <thead>\n",
       "    <tr style=\"text-align: right;\">\n",
       "      <th></th>\n",
       "      <th>date</th>\n",
       "      <th>time</th>\n",
       "      <th>sensor</th>\n",
       "      <th>value</th>\n",
       "      <th>annotation</th>\n",
       "      <th>state</th>\n",
       "    </tr>\n",
       "  </thead>\n",
       "  <tbody>\n",
       "    <tr>\n",
       "      <th>0</th>\n",
       "      <td>2009-02-02</td>\n",
       "      <td>07:15:16.575809</td>\n",
       "      <td>M35</td>\n",
       "      <td>ON</td>\n",
       "      <td>R1_Bed_to_Toilet</td>\n",
       "      <td>begin</td>\n",
       "    </tr>\n",
       "    <tr>\n",
       "      <th>1</th>\n",
       "      <td>2009-02-02</td>\n",
       "      <td>07:15:21.408519</td>\n",
       "      <td>AD1-A</td>\n",
       "      <td>2.82231</td>\n",
       "      <td>NaN</td>\n",
       "      <td>NaN</td>\n",
       "    </tr>\n",
       "    <tr>\n",
       "      <th>2</th>\n",
       "      <td>2009-02-02</td>\n",
       "      <td>07:15:22.532789</td>\n",
       "      <td>M35</td>\n",
       "      <td>OFF</td>\n",
       "      <td>NaN</td>\n",
       "      <td>NaN</td>\n",
       "    </tr>\n",
       "    <tr>\n",
       "      <th>3</th>\n",
       "      <td>2009-02-02</td>\n",
       "      <td>07:15:23.345479</td>\n",
       "      <td>M35</td>\n",
       "      <td>ON</td>\n",
       "      <td>NaN</td>\n",
       "      <td>NaN</td>\n",
       "    </tr>\n",
       "    <tr>\n",
       "      <th>4</th>\n",
       "      <td>2009-02-02</td>\n",
       "      <td>07:15:27.529299</td>\n",
       "      <td>AD1-A</td>\n",
       "      <td>2.79926</td>\n",
       "      <td>NaN</td>\n",
       "      <td>NaN</td>\n",
       "    </tr>\n",
       "  </tbody>\n",
       "</table>\n",
       "</div>"
      ],
      "text/plain": [
       "         date             time sensor    value        annotation  state\n",
       "0  2009-02-02  07:15:16.575809    M35       ON  R1_Bed_to_Toilet  begin\n",
       "1  2009-02-02  07:15:21.408519  AD1-A  2.82231               NaN    NaN\n",
       "2  2009-02-02  07:15:22.532789    M35      OFF               NaN    NaN\n",
       "3  2009-02-02  07:15:23.345479    M35       ON               NaN    NaN\n",
       "4  2009-02-02  07:15:27.529299  AD1-A  2.79926               NaN    NaN"
      ]
     },
     "execution_count": 3,
     "metadata": {},
     "output_type": "execute_result"
    }
   ],
   "source": [
    "# Read the data file\n",
    "\n",
    "column_headings = ('date', 'time', 'sensor', 'value', 'annotation', 'state')\n",
    "\n",
    "df = pd.read_csv(\n",
    "    filename, \n",
    "    delim_whitespace=True, \n",
    "    names=column_headings\n",
    ")\n",
    "\n",
    "df.head()"
   ]
  },
  {
   "cell_type": "code",
   "execution_count": 4,
   "metadata": {},
   "outputs": [
    {
     "data": {
      "text/html": [
       "<div>\n",
       "<style scoped>\n",
       "    .dataframe tbody tr th:only-of-type {\n",
       "        vertical-align: middle;\n",
       "    }\n",
       "\n",
       "    .dataframe tbody tr th {\n",
       "        vertical-align: top;\n",
       "    }\n",
       "\n",
       "    .dataframe thead th {\n",
       "        text-align: right;\n",
       "    }\n",
       "</style>\n",
       "<table border=\"1\" class=\"dataframe\">\n",
       "  <thead>\n",
       "    <tr style=\"text-align: right;\">\n",
       "      <th></th>\n",
       "      <th>date</th>\n",
       "      <th>time</th>\n",
       "      <th>sensor</th>\n",
       "      <th>value</th>\n",
       "      <th>annotation</th>\n",
       "      <th>state</th>\n",
       "    </tr>\n",
       "  </thead>\n",
       "  <tbody>\n",
       "    <tr>\n",
       "      <th>0</th>\n",
       "      <td>2009-02-02</td>\n",
       "      <td>07:15:16.575809</td>\n",
       "      <td>M35</td>\n",
       "      <td>ON</td>\n",
       "      <td>R1_Bed_to_Toilet</td>\n",
       "      <td>begin</td>\n",
       "    </tr>\n",
       "    <tr>\n",
       "      <th>1</th>\n",
       "      <td>2009-02-02</td>\n",
       "      <td>07:15:21.408519</td>\n",
       "      <td>AD1-A</td>\n",
       "      <td>2.82231</td>\n",
       "      <td>NaN</td>\n",
       "      <td>NaN</td>\n",
       "    </tr>\n",
       "    <tr>\n",
       "      <th>2</th>\n",
       "      <td>2009-02-02</td>\n",
       "      <td>07:15:22.532789</td>\n",
       "      <td>M35</td>\n",
       "      <td>OFF</td>\n",
       "      <td>NaN</td>\n",
       "      <td>NaN</td>\n",
       "    </tr>\n",
       "    <tr>\n",
       "      <th>3</th>\n",
       "      <td>2009-02-02</td>\n",
       "      <td>07:15:23.345479</td>\n",
       "      <td>M35</td>\n",
       "      <td>ON</td>\n",
       "      <td>NaN</td>\n",
       "      <td>NaN</td>\n",
       "    </tr>\n",
       "    <tr>\n",
       "      <th>4</th>\n",
       "      <td>2009-02-02</td>\n",
       "      <td>07:15:27.529299</td>\n",
       "      <td>AD1-A</td>\n",
       "      <td>2.79926</td>\n",
       "      <td>NaN</td>\n",
       "      <td>NaN</td>\n",
       "    </tr>\n",
       "  </tbody>\n",
       "</table>\n",
       "</div>"
      ],
      "text/plain": [
       "         date             time sensor    value        annotation  state\n",
       "0  2009-02-02  07:15:16.575809    M35       ON  R1_Bed_to_Toilet  begin\n",
       "1  2009-02-02  07:15:21.408519  AD1-A  2.82231               NaN    NaN\n",
       "2  2009-02-02  07:15:22.532789    M35      OFF               NaN    NaN\n",
       "3  2009-02-02  07:15:23.345479    M35       ON               NaN    NaN\n",
       "4  2009-02-02  07:15:27.529299  AD1-A  2.79926               NaN    NaN"
      ]
     },
     "execution_count": 4,
     "metadata": {},
     "output_type": "execute_result"
    }
   ],
   "source": [
    "df.head()"
   ]
  },
  {
   "cell_type": "code",
   "execution_count": 5,
   "metadata": {},
   "outputs": [],
   "source": [
    "for col in column_headings:\n",
    "    df.loc[:, col] = df[col].str.strip()"
   ]
  },
  {
   "cell_type": "code",
   "execution_count": null,
   "metadata": {},
   "outputs": [],
   "source": []
  },
  {
   "cell_type": "markdown",
   "metadata": {},
   "source": [
    "### Small diversion: pandas dataframes"
   ]
  },
  {
   "cell_type": "code",
   "execution_count": 6,
   "metadata": {},
   "outputs": [
    {
     "data": {
      "text/plain": [
       "0    2009-02-02\n",
       "1    2009-02-02\n",
       "2    2009-02-02\n",
       "3    2009-02-02\n",
       "4    2009-02-02\n",
       "Name: date, dtype: object"
      ]
     },
     "execution_count": 6,
     "metadata": {},
     "output_type": "execute_result"
    }
   ],
   "source": [
    "df.date.head()"
   ]
  },
  {
   "cell_type": "code",
   "execution_count": 7,
   "metadata": {},
   "outputs": [
    {
     "data": {
      "text/plain": [
       "array(['M35', 'AD1-A', 'M34', 'M32', 'M33', 'M36', 'M30', 'M29', 'M37',\n",
       "       'M38', 'M39', 'M41', 'M40', 'M49', 'M46', 'M50', 'M44', 'M47',\n",
       "       'M48', 'M43', 'M28', 'M42', 'M27', 'M26', 'M25', 'M24', 'M21',\n",
       "       'M19', 'M18', 'M17', 'M16', 'M15', 'D09', 'M14', 'M13', 'M08',\n",
       "       'M07', 'M02', 'M45', 'M51', 'D08', 'AD1-B', 'AD1-C', 'D10', 'I03',\n",
       "       'M06', 'M09', 'M10', 'M01', 'D12', 'L04', 'M23', 'M31', 'D15',\n",
       "       'D07', 'D14', 'M11', 'M05', 'M03', 'M04', 'M22', 'M12', 'M20',\n",
       "       'L11', 'D05', 'D03', 'L10', 'L06', 'L13', 'L12', 'L09'], dtype=object)"
      ]
     },
     "execution_count": 7,
     "metadata": {},
     "output_type": "execute_result"
    }
   ],
   "source": [
    "df.sensor.unique()"
   ]
  },
  {
   "cell_type": "code",
   "execution_count": 8,
   "metadata": {},
   "outputs": [
    {
     "data": {
      "text/plain": [
       "array(['R1_Bed_to_Toilet', nan, 'R1_Personal_Hygiene', 'R2_Bed_to_Toilet',\n",
       "       'Meal_Preparation', 'R2_Personal_Hygiene', 'Watch_TV', 'R1_Work',\n",
       "       'R2_Work', 'R1_Sleep', 'R2_Sleep', 'Wash_Bathtub', 'Clean', 'Study'], dtype=object)"
      ]
     },
     "execution_count": 8,
     "metadata": {},
     "output_type": "execute_result"
    }
   ],
   "source": [
    "df.annotation.unique()"
   ]
  },
  {
   "cell_type": "code",
   "execution_count": 9,
   "metadata": {},
   "outputs": [
    {
     "data": {
      "text/plain": [
       "array(['begin', nan, 'end'], dtype=object)"
      ]
     },
     "execution_count": 9,
     "metadata": {},
     "output_type": "execute_result"
    }
   ],
   "source": [
    "df.state.unique()"
   ]
  },
  {
   "cell_type": "markdown",
   "metadata": {},
   "source": [
    "### Not everything is what it seems"
   ]
  },
  {
   "cell_type": "code",
   "execution_count": 10,
   "metadata": {},
   "outputs": [
    {
     "data": {
      "text/plain": [
       "dtype('O')"
      ]
     },
     "execution_count": 10,
     "metadata": {},
     "output_type": "execute_result"
    }
   ],
   "source": [
    "df.date.dtype"
   ]
  },
  {
   "cell_type": "code",
   "execution_count": 11,
   "metadata": {},
   "outputs": [
    {
     "data": {
      "text/plain": [
       "dtype('O')"
      ]
     },
     "execution_count": 11,
     "metadata": {},
     "output_type": "execute_result"
    }
   ],
   "source": [
    "df.time.dtype"
   ]
  },
  {
   "cell_type": "markdown",
   "metadata": {},
   "source": [
    "The date and time columns are generic python **objects**. We will want them to be date time objects so that we can work with them naturally. Before so doing we will want to verify that all of the data are proper dates. "
   ]
  },
  {
   "cell_type": "code",
   "execution_count": 12,
   "metadata": {},
   "outputs": [
    {
     "data": {
      "text/plain": [
       "array(['2009-02-02', '2009-02-03', '2009-02-04', '2009-02-05',\n",
       "       '2009-02-06', '2009-02-07', '2009-02-09', '2009-02-10',\n",
       "       '2009-02-11', '2009-02-12', '2009-02-13', '2009-02-16',\n",
       "       '2009-02-17', '2009-02-18', '2009-02-19', '2009-02-20',\n",
       "       '2009-02-21', '2009-02-23', '2009-02-24', '2009-02-25',\n",
       "       '2009-02-26', '2009-02-27', '2009-02-28', '2009-03-02',\n",
       "       '2009-03-03', '2009-03-04', '2009-03-05', '2009-03-06',\n",
       "       '2009-03-07', '2009-03-09', '2009-03-10', '2009-03-11',\n",
       "       '2009-03-12', '2009-03-13', '2009-03-23', '2009-03-24',\n",
       "       '2009-03-25', '2009-03-26', '2009-03-27', '2009-03-28',\n",
       "       '2009-03-30', '2009-03-31', '2009-04-01', '2009-04-02',\n",
       "       '2009-04-03', '2009-04-04', '22009-02-03'], dtype=object)"
      ]
     },
     "execution_count": 12,
     "metadata": {},
     "output_type": "execute_result"
    }
   ],
   "source": [
    "df.date.unique()"
   ]
  },
  {
   "cell_type": "markdown",
   "metadata": {},
   "source": [
    "The final date is clearly incorrect. We can assume that '22009' is intended to be '2009'"
   ]
  },
  {
   "cell_type": "code",
   "execution_count": 13,
   "metadata": {},
   "outputs": [],
   "source": [
    "df.loc[df.date.str.startswith('22009'), 'date'] = '2009-02-03'"
   ]
  },
  {
   "cell_type": "code",
   "execution_count": 14,
   "metadata": {},
   "outputs": [
    {
     "data": {
      "text/plain": [
       "array(['2009-02-02', '2009-02-03', '2009-02-04', '2009-02-05',\n",
       "       '2009-02-06', '2009-02-07', '2009-02-09', '2009-02-10',\n",
       "       '2009-02-11', '2009-02-12', '2009-02-13', '2009-02-16',\n",
       "       '2009-02-17', '2009-02-18', '2009-02-19', '2009-02-20',\n",
       "       '2009-02-21', '2009-02-23', '2009-02-24', '2009-02-25',\n",
       "       '2009-02-26', '2009-02-27', '2009-02-28', '2009-03-02',\n",
       "       '2009-03-03', '2009-03-04', '2009-03-05', '2009-03-06',\n",
       "       '2009-03-07', '2009-03-09', '2009-03-10', '2009-03-11',\n",
       "       '2009-03-12', '2009-03-13', '2009-03-23', '2009-03-24',\n",
       "       '2009-03-25', '2009-03-26', '2009-03-27', '2009-03-28',\n",
       "       '2009-03-30', '2009-03-31', '2009-04-01', '2009-04-02',\n",
       "       '2009-04-03', '2009-04-04'], dtype=object)"
      ]
     },
     "execution_count": 14,
     "metadata": {},
     "output_type": "execute_result"
    }
   ],
   "source": [
    "df.date.unique()"
   ]
  },
  {
   "cell_type": "markdown",
   "metadata": {},
   "source": [
    "Create the date time objects and set them as the index of the dataframe. "
   ]
  },
  {
   "cell_type": "code",
   "execution_count": 15,
   "metadata": {},
   "outputs": [
    {
     "data": {
      "text/html": [
       "<div>\n",
       "<style scoped>\n",
       "    .dataframe tbody tr th:only-of-type {\n",
       "        vertical-align: middle;\n",
       "    }\n",
       "\n",
       "    .dataframe tbody tr th {\n",
       "        vertical-align: top;\n",
       "    }\n",
       "\n",
       "    .dataframe thead th {\n",
       "        text-align: right;\n",
       "    }\n",
       "</style>\n",
       "<table border=\"1\" class=\"dataframe\">\n",
       "  <thead>\n",
       "    <tr style=\"text-align: right;\">\n",
       "      <th></th>\n",
       "      <th>sensor</th>\n",
       "      <th>value</th>\n",
       "      <th>annotation</th>\n",
       "      <th>state</th>\n",
       "    </tr>\n",
       "    <tr>\n",
       "      <th>datetime</th>\n",
       "      <th></th>\n",
       "      <th></th>\n",
       "      <th></th>\n",
       "      <th></th>\n",
       "    </tr>\n",
       "  </thead>\n",
       "  <tbody>\n",
       "    <tr>\n",
       "      <th>2009-02-02 07:15:16.575809</th>\n",
       "      <td>M35</td>\n",
       "      <td>ON</td>\n",
       "      <td>R1_Bed_to_Toilet</td>\n",
       "      <td>begin</td>\n",
       "    </tr>\n",
       "    <tr>\n",
       "      <th>2009-02-02 07:15:21.408519</th>\n",
       "      <td>AD1-A</td>\n",
       "      <td>2.82231</td>\n",
       "      <td>NaN</td>\n",
       "      <td>NaN</td>\n",
       "    </tr>\n",
       "    <tr>\n",
       "      <th>2009-02-02 07:15:22.532789</th>\n",
       "      <td>M35</td>\n",
       "      <td>OFF</td>\n",
       "      <td>NaN</td>\n",
       "      <td>NaN</td>\n",
       "    </tr>\n",
       "    <tr>\n",
       "      <th>2009-02-02 07:15:23.345479</th>\n",
       "      <td>M35</td>\n",
       "      <td>ON</td>\n",
       "      <td>NaN</td>\n",
       "      <td>NaN</td>\n",
       "    </tr>\n",
       "    <tr>\n",
       "      <th>2009-02-02 07:15:27.529299</th>\n",
       "      <td>AD1-A</td>\n",
       "      <td>2.79926</td>\n",
       "      <td>NaN</td>\n",
       "      <td>NaN</td>\n",
       "    </tr>\n",
       "  </tbody>\n",
       "</table>\n",
       "</div>"
      ],
      "text/plain": [
       "                           sensor    value        annotation  state\n",
       "datetime                                                           \n",
       "2009-02-02 07:15:16.575809    M35       ON  R1_Bed_to_Toilet  begin\n",
       "2009-02-02 07:15:21.408519  AD1-A  2.82231               NaN    NaN\n",
       "2009-02-02 07:15:22.532789    M35      OFF               NaN    NaN\n",
       "2009-02-02 07:15:23.345479    M35       ON               NaN    NaN\n",
       "2009-02-02 07:15:27.529299  AD1-A  2.79926               NaN    NaN"
      ]
     },
     "execution_count": 15,
     "metadata": {},
     "output_type": "execute_result"
    }
   ],
   "source": [
    "df['datetime'] = pd.to_datetime(df[['date', 'time']].apply(lambda row: ' '.join(row), axis=1))\n",
    "\n",
    "df = df[['datetime', 'sensor', 'value', 'annotation', 'state']]\n",
    "df.set_index('datetime', inplace=True)\n",
    "\n",
    "df.head()"
   ]
  },
  {
   "cell_type": "code",
   "execution_count": 16,
   "metadata": {},
   "outputs": [
    {
     "data": {
      "text/plain": [
       "Int64Index([16, 21, 22, 23, 27, 28, 32, 32, 32, 33,\n",
       "            ...\n",
       "            14, 16, 17, 12, 15, 46, 49, 59,  0, 35],\n",
       "           dtype='int64', name='datetime', length=137789)"
      ]
     },
     "execution_count": 16,
     "metadata": {},
     "output_type": "execute_result"
    }
   ],
   "source": [
    "df.index.second"
   ]
  },
  {
   "cell_type": "markdown",
   "metadata": {},
   "source": [
    "### Querying the sensors"
   ]
  },
  {
   "cell_type": "markdown",
   "metadata": {},
   "source": [
    "![CASAS Testbed](sensorlayout.jpg)"
   ]
  },
  {
   "cell_type": "code",
   "execution_count": 17,
   "metadata": {},
   "outputs": [
    {
     "data": {
      "text/plain": [
       "array(['M35', 'AD1-A', 'M34', 'M32', 'M33', 'M36', 'M30', 'M29', 'M37',\n",
       "       'M38', 'M39', 'M41', 'M40', 'M49', 'M46', 'M50', 'M44', 'M47',\n",
       "       'M48', 'M43', 'M28', 'M42', 'M27', 'M26', 'M25', 'M24', 'M21',\n",
       "       'M19', 'M18', 'M17', 'M16', 'M15', 'D09', 'M14', 'M13', 'M08',\n",
       "       'M07', 'M02', 'M45', 'M51', 'D08', 'AD1-B', 'AD1-C', 'D10', 'I03',\n",
       "       'M06', 'M09', 'M10', 'M01', 'D12', 'L04', 'M23', 'M31', 'D15',\n",
       "       'D07', 'D14', 'M11', 'M05', 'M03', 'M04', 'M22', 'M12', 'M20',\n",
       "       'L11', 'D05', 'D03', 'L10', 'L06', 'L13', 'L12', 'L09'], dtype=object)"
      ]
     },
     "execution_count": 17,
     "metadata": {},
     "output_type": "execute_result"
    }
   ],
   "source": [
    "df.sensor.unique()"
   ]
  },
  {
   "cell_type": "markdown",
   "metadata": {},
   "source": [
    "- M-sensors are binary motion sensors (ON/OFF)\n",
    "- L-sensors are ambiant light sensors (ON/OFF)\n",
    "- D-sensors are binary door sensors (OPEN/CLOSED)\n",
    "- I-sensors are binary item presence sensors (PRESENT/ABSENT)\n",
    "- A-sensors are ADC (measuring temperature on hob/oven)\n",
    "\n",
    "M-, L-, I- and D-sensors are binary, whereas A-sensors have continuous values. So let's split them up into analogue and digital dataframes. "
   ]
  },
  {
   "cell_type": "markdown",
   "metadata": {},
   "source": [
    "### Split the analogue and digital components from eachother"
   ]
  },
  {
   "cell_type": "code",
   "execution_count": 18,
   "metadata": {},
   "outputs": [],
   "source": [
    "cdf = df[~df.sensor.str.startswith(\"A\")][['sensor', 'value']]\n",
    "adf = df[df.sensor.str.startswith(\"A\")][['sensor', 'value']]"
   ]
  },
  {
   "cell_type": "markdown",
   "metadata": {},
   "source": [
    "#### Categorical data\n",
    "\n",
    "We would like to create a matrix columns corresponding to the categorical sensor name (eg M13) which is `1` when the sensor value is `ON`, `-1` when the sensor value is `OFF`, and otherwise remains `0`. First we need to validate the values of the categorical dataframe. "
   ]
  },
  {
   "cell_type": "code",
   "execution_count": 19,
   "metadata": {},
   "outputs": [
    {
     "data": {
      "text/html": [
       "<div>\n",
       "<style scoped>\n",
       "    .dataframe tbody tr th:only-of-type {\n",
       "        vertical-align: middle;\n",
       "    }\n",
       "\n",
       "    .dataframe tbody tr th {\n",
       "        vertical-align: top;\n",
       "    }\n",
       "\n",
       "    .dataframe thead th {\n",
       "        text-align: right;\n",
       "    }\n",
       "</style>\n",
       "<table border=\"1\" class=\"dataframe\">\n",
       "  <thead>\n",
       "    <tr style=\"text-align: right;\">\n",
       "      <th></th>\n",
       "      <th>sensor</th>\n",
       "      <th>value</th>\n",
       "    </tr>\n",
       "    <tr>\n",
       "      <th>datetime</th>\n",
       "      <th></th>\n",
       "      <th></th>\n",
       "    </tr>\n",
       "  </thead>\n",
       "  <tbody>\n",
       "    <tr>\n",
       "      <th>2009-02-02 07:15:16.575809</th>\n",
       "      <td>M35</td>\n",
       "      <td>ON</td>\n",
       "    </tr>\n",
       "    <tr>\n",
       "      <th>2009-02-02 07:15:22.532789</th>\n",
       "      <td>M35</td>\n",
       "      <td>OFF</td>\n",
       "    </tr>\n",
       "    <tr>\n",
       "      <th>2009-02-02 07:15:23.345479</th>\n",
       "      <td>M35</td>\n",
       "      <td>ON</td>\n",
       "    </tr>\n",
       "    <tr>\n",
       "      <th>2009-02-02 07:15:28.655329</th>\n",
       "      <td>M34</td>\n",
       "      <td>ON</td>\n",
       "    </tr>\n",
       "    <tr>\n",
       "      <th>2009-02-02 07:15:32.574290</th>\n",
       "      <td>M34</td>\n",
       "      <td>OFF</td>\n",
       "    </tr>\n",
       "  </tbody>\n",
       "</table>\n",
       "</div>"
      ],
      "text/plain": [
       "                           sensor value\n",
       "datetime                               \n",
       "2009-02-02 07:15:16.575809    M35    ON\n",
       "2009-02-02 07:15:22.532789    M35   OFF\n",
       "2009-02-02 07:15:23.345479    M35    ON\n",
       "2009-02-02 07:15:28.655329    M34    ON\n",
       "2009-02-02 07:15:32.574290    M34   OFF"
      ]
     },
     "execution_count": 19,
     "metadata": {},
     "output_type": "execute_result"
    }
   ],
   "source": [
    "cdf.head()"
   ]
  },
  {
   "cell_type": "code",
   "execution_count": 20,
   "metadata": {},
   "outputs": [
    {
     "data": {
      "text/plain": [
       "array(['ON', 'OFF', 'OPEN', 'CLOSE', 'ABSENT', 'PRESENT', 'ONF', 'OF', 'O',\n",
       "       'OFFF'], dtype=object)"
      ]
     },
     "execution_count": 20,
     "metadata": {},
     "output_type": "execute_result"
    }
   ],
   "source": [
    "cdf.value.unique()"
   ]
  },
  {
   "cell_type": "markdown",
   "metadata": {},
   "source": [
    "Some strange values: \n",
    "\n",
    "- ONF\n",
    "- OF\n",
    "- O\n",
    "- OFFF\n",
    "\n",
    "It is often unclear how we should deal with errors such as these, so let's just convert the sensor value of all of these to `ON` in this demo. "
   ]
  },
  {
   "cell_type": "code",
   "execution_count": 21,
   "metadata": {},
   "outputs": [
    {
     "data": {
      "text/plain": [
       "array(['ON', 'OFF', 'OPEN', 'CLOSE', 'ABSENT', 'PRESENT'], dtype=object)"
      ]
     },
     "execution_count": 21,
     "metadata": {},
     "output_type": "execute_result"
    }
   ],
   "source": [
    "for value in ('ONF', 'OF', 'O', 'OFFF'): \n",
    "    cdf.loc[cdf.value == value, 'value'] = 'ON'\n",
    "cdf.value.unique()"
   ]
  },
  {
   "cell_type": "code",
   "execution_count": 22,
   "metadata": {},
   "outputs": [
    {
     "data": {
      "text/html": [
       "<div>\n",
       "<style scoped>\n",
       "    .dataframe tbody tr th:only-of-type {\n",
       "        vertical-align: middle;\n",
       "    }\n",
       "\n",
       "    .dataframe tbody tr th {\n",
       "        vertical-align: top;\n",
       "    }\n",
       "\n",
       "    .dataframe thead th {\n",
       "        text-align: right;\n",
       "    }\n",
       "</style>\n",
       "<table border=\"1\" class=\"dataframe\">\n",
       "  <thead>\n",
       "    <tr style=\"text-align: right;\">\n",
       "      <th></th>\n",
       "      <th>D03</th>\n",
       "      <th>D05</th>\n",
       "      <th>D07</th>\n",
       "      <th>D08</th>\n",
       "      <th>D09</th>\n",
       "      <th>D10</th>\n",
       "      <th>D12</th>\n",
       "      <th>D14</th>\n",
       "      <th>D15</th>\n",
       "      <th>I03</th>\n",
       "      <th>...</th>\n",
       "      <th>M42</th>\n",
       "      <th>M43</th>\n",
       "      <th>M44</th>\n",
       "      <th>M45</th>\n",
       "      <th>M46</th>\n",
       "      <th>M47</th>\n",
       "      <th>M48</th>\n",
       "      <th>M49</th>\n",
       "      <th>M50</th>\n",
       "      <th>M51</th>\n",
       "    </tr>\n",
       "    <tr>\n",
       "      <th>datetime</th>\n",
       "      <th></th>\n",
       "      <th></th>\n",
       "      <th></th>\n",
       "      <th></th>\n",
       "      <th></th>\n",
       "      <th></th>\n",
       "      <th></th>\n",
       "      <th></th>\n",
       "      <th></th>\n",
       "      <th></th>\n",
       "      <th></th>\n",
       "      <th></th>\n",
       "      <th></th>\n",
       "      <th></th>\n",
       "      <th></th>\n",
       "      <th></th>\n",
       "      <th></th>\n",
       "      <th></th>\n",
       "      <th></th>\n",
       "      <th></th>\n",
       "      <th></th>\n",
       "    </tr>\n",
       "  </thead>\n",
       "  <tbody>\n",
       "    <tr>\n",
       "      <th>2009-02-02 07:15:16.575809</th>\n",
       "      <td>0</td>\n",
       "      <td>0</td>\n",
       "      <td>0</td>\n",
       "      <td>0</td>\n",
       "      <td>0</td>\n",
       "      <td>0</td>\n",
       "      <td>0</td>\n",
       "      <td>0</td>\n",
       "      <td>0</td>\n",
       "      <td>0</td>\n",
       "      <td>...</td>\n",
       "      <td>0</td>\n",
       "      <td>0</td>\n",
       "      <td>0</td>\n",
       "      <td>0</td>\n",
       "      <td>0</td>\n",
       "      <td>0</td>\n",
       "      <td>0</td>\n",
       "      <td>0</td>\n",
       "      <td>0</td>\n",
       "      <td>0</td>\n",
       "    </tr>\n",
       "    <tr>\n",
       "      <th>2009-02-02 07:15:22.532789</th>\n",
       "      <td>0</td>\n",
       "      <td>0</td>\n",
       "      <td>0</td>\n",
       "      <td>0</td>\n",
       "      <td>0</td>\n",
       "      <td>0</td>\n",
       "      <td>0</td>\n",
       "      <td>0</td>\n",
       "      <td>0</td>\n",
       "      <td>0</td>\n",
       "      <td>...</td>\n",
       "      <td>0</td>\n",
       "      <td>0</td>\n",
       "      <td>0</td>\n",
       "      <td>0</td>\n",
       "      <td>0</td>\n",
       "      <td>0</td>\n",
       "      <td>0</td>\n",
       "      <td>0</td>\n",
       "      <td>0</td>\n",
       "      <td>0</td>\n",
       "    </tr>\n",
       "    <tr>\n",
       "      <th>2009-02-02 07:15:23.345479</th>\n",
       "      <td>0</td>\n",
       "      <td>0</td>\n",
       "      <td>0</td>\n",
       "      <td>0</td>\n",
       "      <td>0</td>\n",
       "      <td>0</td>\n",
       "      <td>0</td>\n",
       "      <td>0</td>\n",
       "      <td>0</td>\n",
       "      <td>0</td>\n",
       "      <td>...</td>\n",
       "      <td>0</td>\n",
       "      <td>0</td>\n",
       "      <td>0</td>\n",
       "      <td>0</td>\n",
       "      <td>0</td>\n",
       "      <td>0</td>\n",
       "      <td>0</td>\n",
       "      <td>0</td>\n",
       "      <td>0</td>\n",
       "      <td>0</td>\n",
       "    </tr>\n",
       "    <tr>\n",
       "      <th>2009-02-02 07:15:28.655329</th>\n",
       "      <td>0</td>\n",
       "      <td>0</td>\n",
       "      <td>0</td>\n",
       "      <td>0</td>\n",
       "      <td>0</td>\n",
       "      <td>0</td>\n",
       "      <td>0</td>\n",
       "      <td>0</td>\n",
       "      <td>0</td>\n",
       "      <td>0</td>\n",
       "      <td>...</td>\n",
       "      <td>0</td>\n",
       "      <td>0</td>\n",
       "      <td>0</td>\n",
       "      <td>0</td>\n",
       "      <td>0</td>\n",
       "      <td>0</td>\n",
       "      <td>0</td>\n",
       "      <td>0</td>\n",
       "      <td>0</td>\n",
       "      <td>0</td>\n",
       "    </tr>\n",
       "    <tr>\n",
       "      <th>2009-02-02 07:15:32.574290</th>\n",
       "      <td>0</td>\n",
       "      <td>0</td>\n",
       "      <td>0</td>\n",
       "      <td>0</td>\n",
       "      <td>0</td>\n",
       "      <td>0</td>\n",
       "      <td>0</td>\n",
       "      <td>0</td>\n",
       "      <td>0</td>\n",
       "      <td>0</td>\n",
       "      <td>...</td>\n",
       "      <td>0</td>\n",
       "      <td>0</td>\n",
       "      <td>0</td>\n",
       "      <td>0</td>\n",
       "      <td>0</td>\n",
       "      <td>0</td>\n",
       "      <td>0</td>\n",
       "      <td>0</td>\n",
       "      <td>0</td>\n",
       "      <td>0</td>\n",
       "    </tr>\n",
       "  </tbody>\n",
       "</table>\n",
       "<p>5 rows × 68 columns</p>\n",
       "</div>"
      ],
      "text/plain": [
       "                            D03  D05  D07  D08  D09  D10  D12  D14  D15  I03  \\\n",
       "datetime                                                                       \n",
       "2009-02-02 07:15:16.575809    0    0    0    0    0    0    0    0    0    0   \n",
       "2009-02-02 07:15:22.532789    0    0    0    0    0    0    0    0    0    0   \n",
       "2009-02-02 07:15:23.345479    0    0    0    0    0    0    0    0    0    0   \n",
       "2009-02-02 07:15:28.655329    0    0    0    0    0    0    0    0    0    0   \n",
       "2009-02-02 07:15:32.574290    0    0    0    0    0    0    0    0    0    0   \n",
       "\n",
       "                           ...   M42  M43  M44  M45  M46  M47  M48  M49  M50  \\\n",
       "datetime                   ...                                                 \n",
       "2009-02-02 07:15:16.575809 ...     0    0    0    0    0    0    0    0    0   \n",
       "2009-02-02 07:15:22.532789 ...     0    0    0    0    0    0    0    0    0   \n",
       "2009-02-02 07:15:23.345479 ...     0    0    0    0    0    0    0    0    0   \n",
       "2009-02-02 07:15:28.655329 ...     0    0    0    0    0    0    0    0    0   \n",
       "2009-02-02 07:15:32.574290 ...     0    0    0    0    0    0    0    0    0   \n",
       "\n",
       "                            M51  \n",
       "datetime                         \n",
       "2009-02-02 07:15:16.575809    0  \n",
       "2009-02-02 07:15:22.532789    0  \n",
       "2009-02-02 07:15:23.345479    0  \n",
       "2009-02-02 07:15:28.655329    0  \n",
       "2009-02-02 07:15:32.574290    0  \n",
       "\n",
       "[5 rows x 68 columns]"
      ]
     },
     "execution_count": 22,
     "metadata": {},
     "output_type": "execute_result"
    }
   ],
   "source": [
    "cdf_cols = pd.get_dummies(cdf.sensor)\n",
    "cdf_cols.head()"
   ]
  },
  {
   "cell_type": "code",
   "execution_count": 23,
   "metadata": {
    "scrolled": false
   },
   "outputs": [
    {
     "data": {
      "text/plain": [
       "<matplotlib.axes._subplots.AxesSubplot at 0x10ad88a90>"
      ]
     },
     "execution_count": 23,
     "metadata": {},
     "output_type": "execute_result"
    },
    {
     "data": {
      "image/png": "[encoded data removed]",
      "text/plain": [
       "<matplotlib.figure.Figure at 0x11507ecf8>"
      ]
     },
     "metadata": {},
     "output_type": "display_data"
    }
   ],
   "source": [
    "cdf_cols['M35'].plot(figsize=(10, 5))"
   ]
  },
  {
   "cell_type": "code",
   "execution_count": 24,
   "metadata": {
    "scrolled": false
   },
   "outputs": [
    {
     "data": {
      "image/png": "[encoded data removed]",
      "text/plain": [
       "<matplotlib.figure.Figure at 0x111a6b780>"
      ]
     },
     "metadata": {},
     "output_type": "display_data"
    }
   ],
   "source": [
    "kitchen_columns = ['M{}'.format(ii) for ii in (15, 16, 17, 18, 19, 51)]\n",
    "\n",
    "start = datetime(2009, 2, 2, 10)\n",
    "end   = datetime(2009, 2, 2, 11)\n",
    "cdf_cols[(cdf_cols.index > start) & (cdf_cols.index < end)][kitchen_columns].plot(subplots=True, figsize=(10, 10));"
   ]
  },
  {
   "cell_type": "code",
   "execution_count": 25,
   "metadata": {},
   "outputs": [
    {
     "data": {
      "image/png": "[encoded data removed]",
      "text/plain": [
       "<matplotlib.figure.Figure at 0x111fe6a58>"
      ]
     },
     "metadata": {},
     "output_type": "display_data"
    }
   ],
   "source": [
    "start = datetime(2009, 2, 2, 15)\n",
    "end   = datetime(2009, 2, 2, 17)\n",
    "cdf_cols[(cdf_cols.index > start) & (cdf_cols.index < end)][kitchen_columns].plot(subplots=True, figsize=(10, 10));"
   ]
  },
  {
   "cell_type": "markdown",
   "metadata": {},
   "source": [
    "#### Analogue data\n",
    "\n",
    "the `value` column of the `adf` dataframe is still a set of strings, so let's convert these to floating point numbers"
   ]
  },
  {
   "cell_type": "code",
   "execution_count": 26,
   "metadata": {},
   "outputs": [
    {
     "data": {
      "text/html": [
       "<div>\n",
       "<style scoped>\n",
       "    .dataframe tbody tr th:only-of-type {\n",
       "        vertical-align: middle;\n",
       "    }\n",
       "\n",
       "    .dataframe tbody tr th {\n",
       "        vertical-align: top;\n",
       "    }\n",
       "\n",
       "    .dataframe thead th {\n",
       "        text-align: right;\n",
       "    }\n",
       "</style>\n",
       "<table border=\"1\" class=\"dataframe\">\n",
       "  <thead>\n",
       "    <tr style=\"text-align: right;\">\n",
       "      <th></th>\n",
       "      <th>sensor</th>\n",
       "      <th>value</th>\n",
       "    </tr>\n",
       "    <tr>\n",
       "      <th>datetime</th>\n",
       "      <th></th>\n",
       "      <th></th>\n",
       "    </tr>\n",
       "  </thead>\n",
       "  <tbody>\n",
       "    <tr>\n",
       "      <th>2009-02-02 07:15:21.408519</th>\n",
       "      <td>AD1-A</td>\n",
       "      <td>2.82231</td>\n",
       "    </tr>\n",
       "    <tr>\n",
       "      <th>2009-02-02 07:15:27.529299</th>\n",
       "      <td>AD1-A</td>\n",
       "      <td>2.79926</td>\n",
       "    </tr>\n",
       "    <tr>\n",
       "      <th>2009-02-02 07:48:10.647809</th>\n",
       "      <td>AD1-A</td>\n",
       "      <td>2.82754</td>\n",
       "    </tr>\n",
       "    <tr>\n",
       "      <th>2009-02-02 07:48:16.658869</th>\n",
       "      <td>AD1-A</td>\n",
       "      <td>2.7977</td>\n",
       "    </tr>\n",
       "    <tr>\n",
       "      <th>2009-02-02 07:49:47.980269</th>\n",
       "      <td>AD1-A</td>\n",
       "      <td>2.81895</td>\n",
       "    </tr>\n",
       "  </tbody>\n",
       "</table>\n",
       "</div>"
      ],
      "text/plain": [
       "                           sensor    value\n",
       "datetime                                  \n",
       "2009-02-02 07:15:21.408519  AD1-A  2.82231\n",
       "2009-02-02 07:15:27.529299  AD1-A  2.79926\n",
       "2009-02-02 07:48:10.647809  AD1-A  2.82754\n",
       "2009-02-02 07:48:16.658869  AD1-A   2.7977\n",
       "2009-02-02 07:49:47.980269  AD1-A  2.81895"
      ]
     },
     "execution_count": 26,
     "metadata": {},
     "output_type": "execute_result"
    }
   ],
   "source": [
    "adf.head()"
   ]
  },
  {
   "cell_type": "code",
   "execution_count": 27,
   "metadata": {},
   "outputs": [
    {
     "ename": "ValueError",
     "evalue": "could not convert string to float: '0.509695F'",
     "output_type": "error",
     "traceback": [
      "\u001b[0;31m---------------------------------------------------------------------------\u001b[0m",
      "\u001b[0;31mValueError\u001b[0m                                Traceback (most recent call last)",
      "\u001b[0;32m<ipython-input-27-d2b0f64009d6>\u001b[0m in \u001b[0;36m<module>\u001b[0;34m()\u001b[0m\n\u001b[0;32m----> 1\u001b[0;31m \u001b[0madf\u001b[0m\u001b[0;34m.\u001b[0m\u001b[0mvalue\u001b[0m\u001b[0;34m.\u001b[0m\u001b[0mastype\u001b[0m\u001b[0;34m(\u001b[0m\u001b[0mfloat\u001b[0m\u001b[0;34m)\u001b[0m\u001b[0;34m\u001b[0m\u001b[0m\n\u001b[0m",
      "\u001b[0;32m/usr/local/lib/python3.6/site-packages/pandas/util/_decorators.py\u001b[0m in \u001b[0;36mwrapper\u001b[0;34m(*args, **kwargs)\u001b[0m\n\u001b[1;32m    116\u001b[0m                 \u001b[0;32melse\u001b[0m\u001b[0;34m:\u001b[0m\u001b[0;34m\u001b[0m\u001b[0m\n\u001b[1;32m    117\u001b[0m                     \u001b[0mkwargs\u001b[0m\u001b[0;34m[\u001b[0m\u001b[0mnew_arg_name\u001b[0m\u001b[0;34m]\u001b[0m \u001b[0;34m=\u001b[0m \u001b[0mnew_arg_value\u001b[0m\u001b[0;34m\u001b[0m\u001b[0m\n\u001b[0;32m--> 118\u001b[0;31m             \u001b[0;32mreturn\u001b[0m \u001b[0mfunc\u001b[0m\u001b[0;34m(\u001b[0m\u001b[0;34m*\u001b[0m\u001b[0margs\u001b[0m\u001b[0;34m,\u001b[0m \u001b[0;34m**\u001b[0m\u001b[0mkwargs\u001b[0m\u001b[0;34m)\u001b[0m\u001b[0;34m\u001b[0m\u001b[0m\n\u001b[0m\u001b[1;32m    119\u001b[0m         \u001b[0;32mreturn\u001b[0m \u001b[0mwrapper\u001b[0m\u001b[0;34m\u001b[0m\u001b[0m\n\u001b[1;32m    120\u001b[0m     \u001b[0;32mreturn\u001b[0m \u001b[0m_deprecate_kwarg\u001b[0m\u001b[0;34m\u001b[0m\u001b[0m\n",
      "\u001b[0;32m/usr/local/lib/python3.6/site-packages/pandas/core/generic.py\u001b[0m in \u001b[0;36mastype\u001b[0;34m(self, dtype, copy, errors, **kwargs)\u001b[0m\n\u001b[1;32m   4002\u001b[0m         \u001b[0;31m# else, only a single dtype is given\u001b[0m\u001b[0;34m\u001b[0m\u001b[0;34m\u001b[0m\u001b[0m\n\u001b[1;32m   4003\u001b[0m         new_data = self._data.astype(dtype=dtype, copy=copy, errors=errors,\n\u001b[0;32m-> 4004\u001b[0;31m                                      **kwargs)\n\u001b[0m\u001b[1;32m   4005\u001b[0m         \u001b[0;32mreturn\u001b[0m \u001b[0mself\u001b[0m\u001b[0;34m.\u001b[0m\u001b[0m_constructor\u001b[0m\u001b[0;34m(\u001b[0m\u001b[0mnew_data\u001b[0m\u001b[0;34m)\u001b[0m\u001b[0;34m.\u001b[0m\u001b[0m__finalize__\u001b[0m\u001b[0;34m(\u001b[0m\u001b[0mself\u001b[0m\u001b[0;34m)\u001b[0m\u001b[0;34m\u001b[0m\u001b[0m\n\u001b[1;32m   4006\u001b[0m \u001b[0;34m\u001b[0m\u001b[0m\n",
      "\u001b[0;32m/usr/local/lib/python3.6/site-packages/pandas/core/internals.py\u001b[0m in \u001b[0;36mastype\u001b[0;34m(self, dtype, **kwargs)\u001b[0m\n\u001b[1;32m   3455\u001b[0m \u001b[0;34m\u001b[0m\u001b[0m\n\u001b[1;32m   3456\u001b[0m     \u001b[0;32mdef\u001b[0m \u001b[0mastype\u001b[0m\u001b[0;34m(\u001b[0m\u001b[0mself\u001b[0m\u001b[0;34m,\u001b[0m \u001b[0mdtype\u001b[0m\u001b[0;34m,\u001b[0m \u001b[0;34m**\u001b[0m\u001b[0mkwargs\u001b[0m\u001b[0;34m)\u001b[0m\u001b[0;34m:\u001b[0m\u001b[0;34m\u001b[0m\u001b[0m\n\u001b[0;32m-> 3457\u001b[0;31m         \u001b[0;32mreturn\u001b[0m \u001b[0mself\u001b[0m\u001b[0;34m.\u001b[0m\u001b[0mapply\u001b[0m\u001b[0;34m(\u001b[0m\u001b[0;34m'astype'\u001b[0m\u001b[0;34m,\u001b[0m \u001b[0mdtype\u001b[0m\u001b[0;34m=\u001b[0m\u001b[0mdtype\u001b[0m\u001b[0;34m,\u001b[0m \u001b[0;34m**\u001b[0m\u001b[0mkwargs\u001b[0m\u001b[0;34m)\u001b[0m\u001b[0;34m\u001b[0m\u001b[0m\n\u001b[0m\u001b[1;32m   3458\u001b[0m \u001b[0;34m\u001b[0m\u001b[0m\n\u001b[1;32m   3459\u001b[0m     \u001b[0;32mdef\u001b[0m \u001b[0mconvert\u001b[0m\u001b[0;34m(\u001b[0m\u001b[0mself\u001b[0m\u001b[0;34m,\u001b[0m \u001b[0;34m**\u001b[0m\u001b[0mkwargs\u001b[0m\u001b[0;34m)\u001b[0m\u001b[0;34m:\u001b[0m\u001b[0;34m\u001b[0m\u001b[0m\n",
      "\u001b[0;32m/usr/local/lib/python3.6/site-packages/pandas/core/internals.py\u001b[0m in \u001b[0;36mapply\u001b[0;34m(self, f, axes, filter, do_integrity_check, consolidate, **kwargs)\u001b[0m\n\u001b[1;32m   3322\u001b[0m \u001b[0;34m\u001b[0m\u001b[0m\n\u001b[1;32m   3323\u001b[0m             \u001b[0mkwargs\u001b[0m\u001b[0;34m[\u001b[0m\u001b[0;34m'mgr'\u001b[0m\u001b[0;34m]\u001b[0m \u001b[0;34m=\u001b[0m \u001b[0mself\u001b[0m\u001b[0;34m\u001b[0m\u001b[0m\n\u001b[0;32m-> 3324\u001b[0;31m             \u001b[0mapplied\u001b[0m \u001b[0;34m=\u001b[0m \u001b[0mgetattr\u001b[0m\u001b[0;34m(\u001b[0m\u001b[0mb\u001b[0m\u001b[0;34m,\u001b[0m \u001b[0mf\u001b[0m\u001b[0;34m)\u001b[0m\u001b[0;34m(\u001b[0m\u001b[0;34m**\u001b[0m\u001b[0mkwargs\u001b[0m\u001b[0;34m)\u001b[0m\u001b[0;34m\u001b[0m\u001b[0m\n\u001b[0m\u001b[1;32m   3325\u001b[0m             \u001b[0mresult_blocks\u001b[0m \u001b[0;34m=\u001b[0m \u001b[0m_extend_blocks\u001b[0m\u001b[0;34m(\u001b[0m\u001b[0mapplied\u001b[0m\u001b[0;34m,\u001b[0m \u001b[0mresult_blocks\u001b[0m\u001b[0;34m)\u001b[0m\u001b[0;34m\u001b[0m\u001b[0m\n\u001b[1;32m   3326\u001b[0m \u001b[0;34m\u001b[0m\u001b[0m\n",
      "\u001b[0;32m/usr/local/lib/python3.6/site-packages/pandas/core/internals.py\u001b[0m in \u001b[0;36mastype\u001b[0;34m(self, dtype, copy, errors, values, **kwargs)\u001b[0m\n\u001b[1;32m    542\u001b[0m     \u001b[0;32mdef\u001b[0m \u001b[0mastype\u001b[0m\u001b[0;34m(\u001b[0m\u001b[0mself\u001b[0m\u001b[0;34m,\u001b[0m \u001b[0mdtype\u001b[0m\u001b[0;34m,\u001b[0m \u001b[0mcopy\u001b[0m\u001b[0;34m=\u001b[0m\u001b[0;32mFalse\u001b[0m\u001b[0;34m,\u001b[0m \u001b[0merrors\u001b[0m\u001b[0;34m=\u001b[0m\u001b[0;34m'raise'\u001b[0m\u001b[0;34m,\u001b[0m \u001b[0mvalues\u001b[0m\u001b[0;34m=\u001b[0m\u001b[0;32mNone\u001b[0m\u001b[0;34m,\u001b[0m \u001b[0;34m**\u001b[0m\u001b[0mkwargs\u001b[0m\u001b[0;34m)\u001b[0m\u001b[0;34m:\u001b[0m\u001b[0;34m\u001b[0m\u001b[0m\n\u001b[1;32m    543\u001b[0m         return self._astype(dtype, copy=copy, errors=errors, values=values,\n\u001b[0;32m--> 544\u001b[0;31m                             **kwargs)\n\u001b[0m\u001b[1;32m    545\u001b[0m \u001b[0;34m\u001b[0m\u001b[0m\n\u001b[1;32m    546\u001b[0m     def _astype(self, dtype, copy=False, errors='raise', values=None,\n",
      "\u001b[0;32m/usr/local/lib/python3.6/site-packages/pandas/core/internals.py\u001b[0m in \u001b[0;36m_astype\u001b[0;34m(self, dtype, copy, errors, values, klass, mgr, **kwargs)\u001b[0m\n\u001b[1;32m    623\u001b[0m \u001b[0;34m\u001b[0m\u001b[0m\n\u001b[1;32m    624\u001b[0m                 \u001b[0;31m# _astype_nansafe works fine with 1-d only\u001b[0m\u001b[0;34m\u001b[0m\u001b[0;34m\u001b[0m\u001b[0m\n\u001b[0;32m--> 625\u001b[0;31m                 \u001b[0mvalues\u001b[0m \u001b[0;34m=\u001b[0m \u001b[0mastype_nansafe\u001b[0m\u001b[0;34m(\u001b[0m\u001b[0mvalues\u001b[0m\u001b[0;34m.\u001b[0m\u001b[0mravel\u001b[0m\u001b[0;34m(\u001b[0m\u001b[0;34m)\u001b[0m\u001b[0;34m,\u001b[0m \u001b[0mdtype\u001b[0m\u001b[0;34m,\u001b[0m \u001b[0mcopy\u001b[0m\u001b[0;34m=\u001b[0m\u001b[0;32mTrue\u001b[0m\u001b[0;34m)\u001b[0m\u001b[0;34m\u001b[0m\u001b[0m\n\u001b[0m\u001b[1;32m    626\u001b[0m                 \u001b[0mvalues\u001b[0m \u001b[0;34m=\u001b[0m \u001b[0mvalues\u001b[0m\u001b[0;34m.\u001b[0m\u001b[0mreshape\u001b[0m\u001b[0;34m(\u001b[0m\u001b[0mself\u001b[0m\u001b[0;34m.\u001b[0m\u001b[0mshape\u001b[0m\u001b[0;34m)\u001b[0m\u001b[0;34m\u001b[0m\u001b[0m\n\u001b[1;32m    627\u001b[0m \u001b[0;34m\u001b[0m\u001b[0m\n",
      "\u001b[0;32m/usr/local/lib/python3.6/site-packages/pandas/core/dtypes/cast.py\u001b[0m in \u001b[0;36mastype_nansafe\u001b[0;34m(arr, dtype, copy)\u001b[0m\n\u001b[1;32m    701\u001b[0m \u001b[0;34m\u001b[0m\u001b[0m\n\u001b[1;32m    702\u001b[0m     \u001b[0;32mif\u001b[0m \u001b[0mcopy\u001b[0m\u001b[0;34m:\u001b[0m\u001b[0;34m\u001b[0m\u001b[0m\n\u001b[0;32m--> 703\u001b[0;31m         \u001b[0;32mreturn\u001b[0m \u001b[0marr\u001b[0m\u001b[0;34m.\u001b[0m\u001b[0mastype\u001b[0m\u001b[0;34m(\u001b[0m\u001b[0mdtype\u001b[0m\u001b[0;34m)\u001b[0m\u001b[0;34m\u001b[0m\u001b[0m\n\u001b[0m\u001b[1;32m    704\u001b[0m     \u001b[0;32mreturn\u001b[0m \u001b[0marr\u001b[0m\u001b[0;34m.\u001b[0m\u001b[0mview\u001b[0m\u001b[0;34m(\u001b[0m\u001b[0mdtype\u001b[0m\u001b[0;34m)\u001b[0m\u001b[0;34m\u001b[0m\u001b[0m\n\u001b[1;32m    705\u001b[0m \u001b[0;34m\u001b[0m\u001b[0m\n",
      "\u001b[0;31mValueError\u001b[0m: could not convert string to float: '0.509695F'"
     ]
    }
   ],
   "source": [
    "adf.value.astype(float)"
   ]
  },
  {
   "cell_type": "code",
   "execution_count": 28,
   "metadata": {},
   "outputs": [
    {
     "name": "stdout",
     "output_type": "stream",
     "text": [
      "> \u001b[0;32m/usr/local/lib/python3.6/site-packages/pandas/core/dtypes/cast.py\u001b[0m(703)\u001b[0;36mastype_nansafe\u001b[0;34m()\u001b[0m\n",
      "\u001b[0;32m    701 \u001b[0;31m\u001b[0;34m\u001b[0m\u001b[0m\n",
      "\u001b[0m\u001b[0;32m    702 \u001b[0;31m    \u001b[0;32mif\u001b[0m \u001b[0mcopy\u001b[0m\u001b[0;34m:\u001b[0m\u001b[0;34m\u001b[0m\u001b[0m\n",
      "\u001b[0m\u001b[0;32m--> 703 \u001b[0;31m        \u001b[0;32mreturn\u001b[0m \u001b[0marr\u001b[0m\u001b[0;34m.\u001b[0m\u001b[0mastype\u001b[0m\u001b[0;34m(\u001b[0m\u001b[0mdtype\u001b[0m\u001b[0;34m)\u001b[0m\u001b[0;34m\u001b[0m\u001b[0m\n",
      "\u001b[0m\u001b[0;32m    704 \u001b[0;31m    \u001b[0;32mreturn\u001b[0m \u001b[0marr\u001b[0m\u001b[0;34m.\u001b[0m\u001b[0mview\u001b[0m\u001b[0;34m(\u001b[0m\u001b[0mdtype\u001b[0m\u001b[0;34m)\u001b[0m\u001b[0;34m\u001b[0m\u001b[0m\n",
      "\u001b[0m\u001b[0;32m    705 \u001b[0;31m\u001b[0;34m\u001b[0m\u001b[0m\n",
      "\u001b[0m\n",
      "ipdb> exit\n"
     ]
    }
   ],
   "source": [
    "% debug"
   ]
  },
  {
   "cell_type": "code",
   "execution_count": 29,
   "metadata": {},
   "outputs": [],
   "source": [
    "f_inds = adf.value.str.endswith('F') \n",
    "adf.loc[f_inds, 'value'] = adf.loc[f_inds, 'value'].str[:-1]\n",
    "\n",
    "f_inds = adf.value.str.startswith('F') \n",
    "adf.loc[f_inds, 'value'] = adf.loc[f_inds, 'value'].str[1:]"
   ]
  },
  {
   "cell_type": "code",
   "execution_count": 30,
   "metadata": {},
   "outputs": [],
   "source": [
    "adf.loc[:, 'value'] = adf.value.astype(float)"
   ]
  },
  {
   "cell_type": "code",
   "execution_count": 31,
   "metadata": {},
   "outputs": [
    {
     "data": {
      "text/plain": [
       "sensor\n",
       "AD1-A    AxesSubplot(0.125,0.125;0.775x0.755)\n",
       "AD1-B    AxesSubplot(0.125,0.125;0.775x0.755)\n",
       "AD1-C    AxesSubplot(0.125,0.125;0.775x0.755)\n",
       "Name: value, dtype: object"
      ]
     },
     "execution_count": 31,
     "metadata": {},
     "output_type": "execute_result"
    },
    {
     "data": {
      "image/png": "[encoded data removed]",
      "text/plain": [
       "<matplotlib.figure.Figure at 0x111f43128>"
      ]
     },
     "metadata": {},
     "output_type": "display_data"
    }
   ],
   "source": [
    "adf.value.groupby(adf.sensor).plot(kind='kde', legend=True, figsize=(10, 5))"
   ]
  },
  {
   "cell_type": "code",
   "execution_count": 32,
   "metadata": {},
   "outputs": [
    {
     "data": {
      "text/html": [
       "<div>\n",
       "<style scoped>\n",
       "    .dataframe tbody tr th:only-of-type {\n",
       "        vertical-align: middle;\n",
       "    }\n",
       "\n",
       "    .dataframe tbody tr th {\n",
       "        vertical-align: top;\n",
       "    }\n",
       "\n",
       "    .dataframe thead th {\n",
       "        text-align: right;\n",
       "    }\n",
       "</style>\n",
       "<table border=\"1\" class=\"dataframe\">\n",
       "  <thead>\n",
       "    <tr style=\"text-align: right;\">\n",
       "      <th></th>\n",
       "      <th>sensor</th>\n",
       "      <th>value</th>\n",
       "    </tr>\n",
       "    <tr>\n",
       "      <th>datetime</th>\n",
       "      <th></th>\n",
       "      <th></th>\n",
       "    </tr>\n",
       "  </thead>\n",
       "  <tbody>\n",
       "    <tr>\n",
       "      <th>2009-02-02 07:15:21.408519</th>\n",
       "      <td>AD1-A</td>\n",
       "      <td>2.82231</td>\n",
       "    </tr>\n",
       "    <tr>\n",
       "      <th>2009-02-02 07:15:27.529299</th>\n",
       "      <td>AD1-A</td>\n",
       "      <td>2.79926</td>\n",
       "    </tr>\n",
       "    <tr>\n",
       "      <th>2009-02-02 07:48:10.647809</th>\n",
       "      <td>AD1-A</td>\n",
       "      <td>2.82754</td>\n",
       "    </tr>\n",
       "    <tr>\n",
       "      <th>2009-02-02 07:48:16.658869</th>\n",
       "      <td>AD1-A</td>\n",
       "      <td>2.79770</td>\n",
       "    </tr>\n",
       "    <tr>\n",
       "      <th>2009-02-02 07:49:47.980269</th>\n",
       "      <td>AD1-A</td>\n",
       "      <td>2.81895</td>\n",
       "    </tr>\n",
       "  </tbody>\n",
       "</table>\n",
       "</div>"
      ],
      "text/plain": [
       "                           sensor    value\n",
       "datetime                                  \n",
       "2009-02-02 07:15:21.408519  AD1-A  2.82231\n",
       "2009-02-02 07:15:27.529299  AD1-A  2.79926\n",
       "2009-02-02 07:48:10.647809  AD1-A  2.82754\n",
       "2009-02-02 07:48:16.658869  AD1-A  2.79770\n",
       "2009-02-02 07:49:47.980269  AD1-A  2.81895"
      ]
     },
     "execution_count": 32,
     "metadata": {},
     "output_type": "execute_result"
    }
   ],
   "source": [
    "adf.head()"
   ]
  },
  {
   "cell_type": "code",
   "execution_count": 33,
   "metadata": {},
   "outputs": [
    {
     "data": {
      "text/plain": [
       "array(['AD1-A', 'AD1-B', 'AD1-C'], dtype=object)"
      ]
     },
     "execution_count": 33,
     "metadata": {},
     "output_type": "execute_result"
    }
   ],
   "source": [
    "adf_keys = adf.sensor.unique()\n",
    "adf_keys"
   ]
  },
  {
   "cell_type": "code",
   "execution_count": 34,
   "metadata": {},
   "outputs": [
    {
     "data": {
      "text/html": [
       "<div>\n",
       "<style scoped>\n",
       "    .dataframe tbody tr th:only-of-type {\n",
       "        vertical-align: middle;\n",
       "    }\n",
       "\n",
       "    .dataframe tbody tr th {\n",
       "        vertical-align: top;\n",
       "    }\n",
       "\n",
       "    .dataframe thead th {\n",
       "        text-align: right;\n",
       "    }\n",
       "</style>\n",
       "<table border=\"1\" class=\"dataframe\">\n",
       "  <thead>\n",
       "    <tr style=\"text-align: right;\">\n",
       "      <th></th>\n",
       "      <th>AD1-A</th>\n",
       "      <th>AD1-B</th>\n",
       "      <th>AD1-C</th>\n",
       "    </tr>\n",
       "    <tr>\n",
       "      <th>datetime</th>\n",
       "      <th></th>\n",
       "      <th></th>\n",
       "      <th></th>\n",
       "    </tr>\n",
       "  </thead>\n",
       "  <tbody>\n",
       "    <tr>\n",
       "      <th>2009-02-02 07:15:21.408519</th>\n",
       "      <td>2.82231</td>\n",
       "      <td>0.0</td>\n",
       "      <td>0.0</td>\n",
       "    </tr>\n",
       "    <tr>\n",
       "      <th>2009-02-02 07:15:27.529299</th>\n",
       "      <td>2.79926</td>\n",
       "      <td>0.0</td>\n",
       "      <td>0.0</td>\n",
       "    </tr>\n",
       "    <tr>\n",
       "      <th>2009-02-02 07:48:10.647809</th>\n",
       "      <td>2.82754</td>\n",
       "      <td>0.0</td>\n",
       "      <td>0.0</td>\n",
       "    </tr>\n",
       "    <tr>\n",
       "      <th>2009-02-02 07:48:16.658869</th>\n",
       "      <td>2.79770</td>\n",
       "      <td>0.0</td>\n",
       "      <td>0.0</td>\n",
       "    </tr>\n",
       "    <tr>\n",
       "      <th>2009-02-02 07:49:47.980269</th>\n",
       "      <td>2.81895</td>\n",
       "      <td>0.0</td>\n",
       "      <td>0.0</td>\n",
       "    </tr>\n",
       "  </tbody>\n",
       "</table>\n",
       "</div>"
      ],
      "text/plain": [
       "                              AD1-A  AD1-B  AD1-C\n",
       "datetime                                         \n",
       "2009-02-02 07:15:21.408519  2.82231    0.0    0.0\n",
       "2009-02-02 07:15:27.529299  2.79926    0.0    0.0\n",
       "2009-02-02 07:48:10.647809  2.82754    0.0    0.0\n",
       "2009-02-02 07:48:16.658869  2.79770    0.0    0.0\n",
       "2009-02-02 07:49:47.980269  2.81895    0.0    0.0"
      ]
     },
     "execution_count": 34,
     "metadata": {},
     "output_type": "execute_result"
    }
   ],
   "source": [
    "adf_cols = pd.get_dummies(adf.sensor)\n",
    "for key in adf_keys:\n",
    "    adf_cols[key] *= adf.value\n",
    "\n",
    "adf_cols = adf_cols[adf_keys]\n",
    "adf_cols.head()"
   ]
  },
  {
   "cell_type": "markdown",
   "metadata": {},
   "source": [
    "## Regrouping \n",
    "\n",
    "At this stage we have our data prepared as we need. We have arranged the categorical data into a matrix of 0 and 1, and the analogue data has also been similarly translated. What remains is to produce our label matrix. Since we have already introduced most of the methods in the previous sections, this should be quite straightforward. "
   ]
  },
  {
   "cell_type": "code",
   "execution_count": 35,
   "metadata": {},
   "outputs": [
    {
     "data": {
      "text/html": [
       "<div>\n",
       "<style scoped>\n",
       "    .dataframe tbody tr th:only-of-type {\n",
       "        vertical-align: middle;\n",
       "    }\n",
       "\n",
       "    .dataframe tbody tr th {\n",
       "        vertical-align: top;\n",
       "    }\n",
       "\n",
       "    .dataframe thead th {\n",
       "        text-align: right;\n",
       "    }\n",
       "</style>\n",
       "<table border=\"1\" class=\"dataframe\">\n",
       "  <thead>\n",
       "    <tr style=\"text-align: right;\">\n",
       "      <th></th>\n",
       "      <th>annotation</th>\n",
       "      <th>state</th>\n",
       "    </tr>\n",
       "    <tr>\n",
       "      <th>datetime</th>\n",
       "      <th></th>\n",
       "      <th></th>\n",
       "    </tr>\n",
       "  </thead>\n",
       "  <tbody>\n",
       "    <tr>\n",
       "      <th>2009-02-02 07:15:16.575809</th>\n",
       "      <td>R1_Bed_to_Toilet</td>\n",
       "      <td>begin</td>\n",
       "    </tr>\n",
       "    <tr>\n",
       "      <th>2009-02-02 07:21:03.792759</th>\n",
       "      <td>R1_Bed_to_Toilet</td>\n",
       "      <td>end</td>\n",
       "    </tr>\n",
       "    <tr>\n",
       "      <th>2009-02-02 07:21:04.014729</th>\n",
       "      <td>R1_Personal_Hygiene</td>\n",
       "      <td>begin</td>\n",
       "    </tr>\n",
       "    <tr>\n",
       "      <th>2009-02-02 07:38:33.946559</th>\n",
       "      <td>R1_Personal_Hygiene</td>\n",
       "      <td>end</td>\n",
       "    </tr>\n",
       "    <tr>\n",
       "      <th>2009-02-02 07:44:12.597919</th>\n",
       "      <td>R2_Bed_to_Toilet</td>\n",
       "      <td>begin</td>\n",
       "    </tr>\n",
       "  </tbody>\n",
       "</table>\n",
       "</div>"
      ],
      "text/plain": [
       "                                     annotation  state\n",
       "datetime                                              \n",
       "2009-02-02 07:15:16.575809     R1_Bed_to_Toilet  begin\n",
       "2009-02-02 07:21:03.792759     R1_Bed_to_Toilet    end\n",
       "2009-02-02 07:21:04.014729  R1_Personal_Hygiene  begin\n",
       "2009-02-02 07:38:33.946559  R1_Personal_Hygiene    end\n",
       "2009-02-02 07:44:12.597919     R2_Bed_to_Toilet  begin"
      ]
     },
     "execution_count": 35,
     "metadata": {},
     "output_type": "execute_result"
    }
   ],
   "source": [
    "annotation_inds = pd.notnull(df.annotation)\n",
    "\n",
    "anns = df.loc[annotation_inds][['annotation', 'state']]\n",
    "\n",
    "# Removing duplicated indices\n",
    "anns = anns.groupby(level=0).first()\n",
    "anns.head()"
   ]
  },
  {
   "cell_type": "markdown",
   "metadata": {},
   "source": [
    "Interestingly there are also bugs in the labels! "
   ]
  },
  {
   "cell_type": "code",
   "execution_count": 36,
   "metadata": {},
   "outputs": [
    {
     "name": "stdout",
     "output_type": "stream",
     "text": [
      "             Clean: equal counts (2 begins, 2 ends)\n",
      "             Meal_Preparation: equal counts (118 begins, 118 ends)\n",
      "             R1_Bed_to_Toilet: equal counts (34 begins, 34 ends)\n",
      " *** WARNING R1_Personal_Hygiene: inconsistent annotation counts with 44 begins and 45 ends\n",
      "             R1_Sleep: equal counts (35 begins, 35 ends)\n",
      " *** WARNING R1_Work: inconsistent annotation counts with 59 begins and 60 ends\n",
      "             R2_Bed_to_Toilet: equal counts (39 begins, 39 ends)\n",
      " *** WARNING R2_Personal_Hygiene: inconsistent annotation counts with 38 begins and 39 ends\n",
      "             R2_Sleep: equal counts (34 begins, 34 ends)\n",
      "             R2_Work: equal counts (44 begins, 44 ends)\n",
      "             Study: equal counts (9 begins, 9 ends)\n",
      "             Wash_Bathtub: equal counts (1 begins, 1 ends)\n",
      "             Watch_TV: equal counts (31 begins, 31 ends)\n"
     ]
    }
   ],
   "source": [
    "for annotation, group in anns.groupby('annotation'): \n",
    "    counts = group.state.value_counts()\n",
    "    \n",
    "    if counts.begin == counts.end: \n",
    "        print('             {}: equal counts ({} begins, {} ends)'.format(\n",
    "            annotation, \n",
    "            counts.begin, \n",
    "            counts.end\n",
    "        ))\n",
    "        \n",
    "    else:\n",
    "        print(' *** WARNING {}: inconsistent annotation counts with {} begins and {} ends'.format(\n",
    "            annotation, \n",
    "            counts.begin, \n",
    "            counts.end\n",
    "        ))\n"
   ]
  },
  {
   "cell_type": "code",
   "execution_count": 37,
   "metadata": {
    "scrolled": false
   },
   "outputs": [
    {
     "name": "stdout",
     "output_type": "stream",
     "text": [
      "              Meal_Preparation - 236\n",
      "              R1_Bed_to_Toilet - 68\n",
      "           R1_Personal_Hygiene - 89\n",
      "                      R1_Sleep - 70\n",
      "                       R1_Work - 119\n",
      "              R2_Bed_to_Toilet - 78\n",
      "           R2_Personal_Hygiene - 77\n",
      "                      R2_Sleep - 68\n",
      "                       R2_Work - 88\n",
      "                      Watch_TV - 62\n"
     ]
    }
   ],
   "source": [
    "def filter_annotations(anns):\n",
    "    left = iter(anns.index[:-1])\n",
    "    right = iter(anns.index[1:])\n",
    "\n",
    "    filtered_annotations = []\n",
    "    for ii, (ll, rr) in enumerate(zip(left, right)): \n",
    "        l = anns.loc[ll]\n",
    "        r = anns.loc[rr]\n",
    "\n",
    "        if l.state == 'begin' and r.state == 'end': \n",
    "            filtered_annotations.append(dict(label=l.annotation, start=ll, end=rr))\n",
    "                \n",
    "    return filtered_annotations\n",
    "        \n",
    "\n",
    "annotations = []\n",
    "for annotation, group in anns.groupby('annotation'): \n",
    "    gi = filter_annotations(group)\n",
    "    if len(gi) > 10:\n",
    "        print('{:>30} - {}'.format(annotation, len(group)))\n",
    "        annotations.extend(gi)"
   ]
  },
  {
   "cell_type": "code",
   "execution_count": 38,
   "metadata": {},
   "outputs": [
    {
     "data": {
      "text/plain": [
       "[{'end': Timestamp('2009-02-02 07:55:23.862210'),\n",
       "  'label': 'Meal_Preparation',\n",
       "  'start': Timestamp('2009-02-02 07:47:19.239909')},\n",
       " {'end': Timestamp('2009-02-02 10:41:52.005729'),\n",
       "  'label': 'Meal_Preparation',\n",
       "  'start': Timestamp('2009-02-02 10:19:49.541500')},\n",
       " {'end': Timestamp('2009-02-02 18:56:56.361779'),\n",
       "  'label': 'Meal_Preparation',\n",
       "  'start': Timestamp('2009-02-02 17:47:19.486150')},\n",
       " {'end': Timestamp('2009-02-03 17:57:36.991650'),\n",
       "  'label': 'Meal_Preparation',\n",
       "  'start': Timestamp('2009-02-03 08:06:10.968039')},\n",
       " {'end': Timestamp('2009-02-04 07:40:06.468620'),\n",
       "  'label': 'Meal_Preparation',\n",
       "  'start': Timestamp('2009-02-04 07:01:27.414659')},\n",
       " {'end': Timestamp('2009-02-04 08:14:06.272049'),\n",
       "  'label': 'Meal_Preparation',\n",
       "  'start': Timestamp('2009-02-04 07:53:27.537029')},\n",
       " {'end': Timestamp('2009-02-04 10:45:08.043109'),\n",
       "  'label': 'Meal_Preparation',\n",
       "  'start': Timestamp('2009-02-04 10:31:49.036809')},\n",
       " {'end': Timestamp('2009-02-04 11:58:50.752389'),\n",
       "  'label': 'Meal_Preparation',\n",
       "  'start': Timestamp('2009-02-04 10:52:26.436909')},\n",
       " {'end': Timestamp('2009-02-05 07:24:41.447210'),\n",
       "  'label': 'Meal_Preparation',\n",
       "  'start': Timestamp('2009-02-05 07:23:48.769040')},\n",
       " {'end': Timestamp('2009-02-05 08:12:58.757329'),\n",
       "  'label': 'Meal_Preparation',\n",
       "  'start': Timestamp('2009-02-05 08:05:21.220639')}]"
      ]
     },
     "execution_count": 38,
     "metadata": {},
     "output_type": "execute_result"
    }
   ],
   "source": [
    "annotations[:10]"
   ]
  },
  {
   "cell_type": "code",
   "execution_count": 39,
   "metadata": {},
   "outputs": [
    {
     "name": "stdout",
     "output_type": "stream",
     "text": [
      "452 452 452\n"
     ]
    }
   ],
   "source": [
    "X_a = []\n",
    "X_d = []\n",
    "y   = []\n",
    "\n",
    "for ann in annotations: \n",
    "    try: \n",
    "        ai = adf_cols[ann['start']: ann['end']]\n",
    "        ci = cdf_cols[ann['start']: ann['end']]\n",
    "        yi = ann['label']\n",
    "\n",
    "        X_a.append(ai)\n",
    "        X_d.append(ci)\n",
    "        y.append(yi)\n",
    "        \n",
    "    except KeyError: \n",
    "        pass\n",
    "\n",
    "print(len(y), len(X_d), len(X_a))"
   ]
  },
  {
   "cell_type": "code",
   "execution_count": 40,
   "metadata": {},
   "outputs": [
    {
     "name": "stdout",
     "output_type": "stream",
     "text": [
      "Meal_Preparation\n",
      "{'D03': 0, 'D05': 0, 'D07': 0, 'D08': 2, 'D09': 6, 'D10': 0, 'D12': 0, 'D14': 0, 'D15': 0, 'I03': 0, 'L04': 0, 'L06': 0, 'L09': 0, 'L10': 0, 'L11': 0, 'L12': 0, 'L13': 0, 'M01': 0, 'M02': 0, 'M03': 0, 'M04': 0, 'M05': 0, 'M06': 0, 'M07': 0, 'M08': 2, 'M09': 1, 'M10': 0, 'M11': 0, 'M12': 0, 'M13': 0, 'M14': 0, 'M15': 4, 'M16': 8, 'M17': 31, 'M18': 12, 'M19': 5, 'M20': 1, 'M21': 1, 'M22': 0, 'M23': 0, 'M24': 0, 'M25': 0, 'M26': 0, 'M27': 0, 'M28': 0, 'M29': 0, 'M30': 0, 'M31': 0, 'M32': 0, 'M33': 0, 'M34': 0, 'M35': 0, 'M36': 0, 'M37': 0, 'M38': 0, 'M39': 0, 'M40': 0, 'M41': 0, 'M42': 0, 'M43': 0, 'M44': 0, 'M45': 0, 'M46': 0, 'M47': 0, 'M48': 1, 'M49': 1, 'M50': 0, 'M51': 4}\n",
      "{'AD1-A': 56.17867000000001, 'AD1-B': 4.557687, 'AD1-C': 0.0}\n"
     ]
    }
   ],
   "source": [
    "ii = 10\n",
    "print(y[ii])\n",
    "print(X_d[ii].sum().to_dict())\n",
    "print(X_a[ii].sum().to_dict())"
   ]
  },
  {
   "cell_type": "code",
   "execution_count": 41,
   "metadata": {},
   "outputs": [],
   "source": [
    "X = []\n",
    "\n",
    "for ii in range(len(y)):\n",
    "    xi = dict()\n",
    "    \n",
    "    # Number of sensor activations\n",
    "    xi['nd'] = len(X_d)\n",
    "    xi['na'] = len(X_a)\n",
    "    \n",
    "    # Duration of sensor windows\n",
    "    if len(X_d[ii]): \n",
    "        xi['dd'] = (X_d[ii].index[-1] - X_d[ii].index[0]).total_seconds()\n",
    "    if len(X_a[ii]):\n",
    "        xi['da'] = (X_a[ii].index[-1] - X_a[ii].index[0]).total_seconds()\n",
    "    \n",
    "    for xx in (X_a[ii], X_d[ii]): \n",
    "        # Value counts of sensors \n",
    "        for kk, vv in xx.sum().to_dict().items(): \n",
    "            if np.isfinite(vv) and vv > 0:\n",
    "                xi[kk] = vv\n",
    "                                \n",
    "        # Average time of day\n",
    "        for kk, vv in xx.index.hour.value_counts().to_dict().items(): \n",
    "            kk = 'H_{}'.format(kk)\n",
    "            if kk not in xi: \n",
    "                xi[kk] = 0\n",
    "            xi[kk] += vv\n",
    "    X.append(xi)"
   ]
  },
  {
   "cell_type": "code",
   "execution_count": null,
   "metadata": {},
   "outputs": [],
   "source": []
  },
  {
   "cell_type": "code",
   "execution_count": 42,
   "metadata": {},
   "outputs": [
    {
     "name": "stdout",
     "output_type": "stream",
     "text": [
      "Meal_Preparation {'nd': 452, 'na': 452, 'dd': 484.62230100000005, 'da': 354.51503, 'AD1-A': 30.893200000000004, 'H_7': 138, 'D09': 4, 'M02': 2, 'M07': 2, 'M08': 5, 'M13': 8, 'M14': 11, 'M15': 12, 'M16': 35, 'M17': 35, 'M18': 8, 'M19': 3, 'M21': 1, 'M24': 1}\n",
      "\n",
      "Meal_Preparation {'nd': 452, 'na': 452, 'dd': 1322.4642290000002, 'da': 754.7643400000001, 'AD1-A': 22.475260000000002, 'AD1-B': 0.129416, 'AD1-C': 0.903647, 'H_10': 250, 'D08': 6, 'D09': 12, 'D10': 8, 'I03': 1, 'M02': 1, 'M06': 4, 'M07': 7, 'M08': 6, 'M09': 13, 'M10': 2, 'M13': 4, 'M14': 6, 'M15': 14, 'M16': 36, 'M17': 78, 'M18': 19, 'M19': 4, 'M21': 1, 'M24': 1, 'M25': 1, 'M33': 1, 'M51': 12}\n",
      "\n",
      "Meal_Preparation {'nd': 452, 'na': 452, 'dd': 35486.023611000004, 'da': 35222.125929, 'AD1-A': 67.37229, 'AD1-B': 43.09350769999998, 'AD1-C': 1.4234190000000002, 'H_17': 513, 'H_8': 565, 'H_12': 123, 'D07': 2, 'D08': 10, 'D09': 60, 'D10': 10, 'M08': 1, 'M09': 11, 'M13': 10, 'M14': 81, 'M15': 102, 'M16': 215, 'M17': 356, 'M18': 106, 'M19': 19, 'M51': 40}\n",
      "\n",
      "Meal_Preparation {'nd': 452, 'na': 452, 'dd': 2319.053961, 'da': 2266.21102, 'AD1-A': 117.89126999999998, 'AD1-B': 7.2035079, 'H_7': 384, 'D08': 2, 'D09': 10, 'M10': 2, 'M14': 18, 'M15': 30, 'M16': 62, 'M17': 91, 'M18': 29, 'M19': 5, 'M29': 3, 'M30': 4, 'M31': 2, 'M32': 2, 'M33': 3, 'M35': 6, 'M36': 5, 'M37': 5, 'M38': 4, 'M39': 8, 'M40': 8, 'M41': 8, 'M51': 13}\n",
      "\n",
      "Meal_Preparation {'nd': 452, 'na': 452, 'dd': 1238.73502, 'da': 1150.380691, 'AD1-A': 58.98005, 'AD1-B': 0.2373471, 'H_8': 80, 'H_7': 142, 'D09': 8, 'D10': 4, 'M14': 15, 'M15': 37, 'M16': 51, 'M17': 58, 'M18': 18, 'M51': 7}\n",
      "\n",
      "Meal_Preparation {'nd': 452, 'na': 452, 'dd': 799.0063, 'da': 736.9905590000001, 'AD1-A': 19.67272, 'H_10': 177, 'D09': 6, 'D10': 4, 'M15': 4, 'M16': 30, 'M17': 67, 'M18': 29, 'M19': 14, 'M21': 2, 'M24': 2, 'M25': 2, 'M51': 10}\n",
      "\n",
      "Meal_Preparation {'nd': 452, 'na': 452, 'dd': 52.67817, 'M16': 4, 'M17': 8, 'M18': 3, 'M19': 3, 'M21': 1, 'H_7': 19}\n",
      "\n",
      "Meal_Preparation {'nd': 452, 'na': 452, 'dd': 457.53669, 'da': 13.529641000000002, 'AD1-B': 1.6587748000000002, 'H_8': 143, 'D08': 5, 'D09': 2, 'M09': 2, 'M13': 2, 'M14': 6, 'M15': 12, 'M16': 25, 'M17': 59, 'M18': 12, 'M19': 3, 'M21': 1, 'M24': 1, 'M25': 1, 'M51': 6}\n",
      "\n",
      "Meal_Preparation {'nd': 452, 'na': 452, 'dd': 1672.20522, 'da': 1493.9588190000002, 'AD1-B': 8.200319499999999, 'H_12': 197, 'D09': 10, 'D10': 10, 'M09': 17, 'M10': 4, 'M13': 2, 'M14': 13, 'M15': 10, 'M16': 13, 'M17': 65, 'M18': 17, 'M19': 1, 'M21': 2, 'M24': 1, 'M51': 12}\n",
      "\n",
      "Meal_Preparation {'nd': 452, 'na': 452, 'dd': 231.42034, 'da': 124.98819, 'AD1-B': 7.2119862999999995, 'H_18': 97, 'D15': 2, 'M06': 1, 'M07': 1, 'M08': 2, 'M09': 2, 'M15': 2, 'M16': 2, 'M17': 20, 'M18': 19, 'M19': 1, 'M31': 26, 'M51': 2}\n",
      "\n"
     ]
    }
   ],
   "source": [
    "for ii in range(10): \n",
    "    print(y[ii], X[ii], end='\\n\\n')"
   ]
  },
  {
   "cell_type": "markdown",
   "metadata": {},
   "source": [
    "# Doing machine learning on this (FINALLY!)"
   ]
  },
  {
   "cell_type": "code",
   "execution_count": 43,
   "metadata": {},
   "outputs": [],
   "source": [
    "# Classification models\n",
    "from sklearn.linear_model import LogisticRegression\n",
    "from sklearn.ensemble import RandomForestClassifier\n",
    "from sklearn.svm import SVC\n",
    "from sklearn.naive_bayes import GaussianNB\n",
    "from sklearn.neighbors import KNeighborsClassifier\n",
    "from sklearn.tree import DecisionTreeClassifier\n",
    "\n",
    "# Preprocessing\n",
    "from sklearn.feature_extraction import DictVectorizer\n",
    "from sklearn.preprocessing import StandardScaler, PolynomialFeatures\n",
    "from sklearn.pipeline import Pipeline\n",
    "\n",
    "# Cross validation\n",
    "from sklearn.model_selection import StratifiedKFold"
   ]
  },
  {
   "cell_type": "code",
   "execution_count": 44,
   "metadata": {},
   "outputs": [
    {
     "name": "stdout",
     "output_type": "stream",
     "text": [
      "Learning models....................................done!\n",
      "\n"
     ]
    }
   ],
   "source": [
    "results = []\n",
    "\n",
    "model_classes = [\n",
    "    LogisticRegression, \n",
    "    RandomForestClassifier, \n",
    "    SVC, \n",
    "    GaussianNB, \n",
    "    KNeighborsClassifier, \n",
    "    DecisionTreeClassifier, \n",
    "]\n",
    "\n",
    "print('Learning models...', end='')\n",
    "for model_class in model_classes:\n",
    "    folds = StratifiedKFold(5, shuffle=True, random_state=12345)\n",
    "    for fold_i, (train_inds, test_inds) in enumerate(folds.split(X, y)): \n",
    "        print('.', end='')\n",
    "        X_train, y_train = [X[i] for i in train_inds], [y[i] for i in train_inds]\n",
    "        X_test, y_test = [X[i] for i in test_inds], [y[i] for i in test_inds]\n",
    "\n",
    "        model = Pipeline((\n",
    "            ('dict_to_vec', DictVectorizer(sparse=False)), \n",
    "            ('scaling', StandardScaler()), \n",
    "            ('classifier', model_class()),\n",
    "        ))\n",
    "\n",
    "        model.fit(X_train, y_train)\n",
    "        \n",
    "        results.append(dict(\n",
    "            model=model_class.__name__, \n",
    "            fold=fold_i, \n",
    "            train_acc=model.score(X_train, y_train),\n",
    "            test_acc=model.score(X_test, y_test)\n",
    "        ))\n",
    "print('...done!\\n')\n",
    "                \n",
    "res = pd.DataFrame(results)"
   ]
  },
  {
   "cell_type": "code",
   "execution_count": 45,
   "metadata": {},
   "outputs": [
    {
     "data": {
      "text/html": [
       "<div>\n",
       "<style scoped>\n",
       "    .dataframe tbody tr th:only-of-type {\n",
       "        vertical-align: middle;\n",
       "    }\n",
       "\n",
       "    .dataframe tbody tr th {\n",
       "        vertical-align: top;\n",
       "    }\n",
       "\n",
       "    .dataframe thead th {\n",
       "        text-align: right;\n",
       "    }\n",
       "</style>\n",
       "<table border=\"1\" class=\"dataframe\">\n",
       "  <thead>\n",
       "    <tr style=\"text-align: right;\">\n",
       "      <th></th>\n",
       "      <th>fold</th>\n",
       "      <th>model</th>\n",
       "      <th>test_acc</th>\n",
       "      <th>train_acc</th>\n",
       "    </tr>\n",
       "  </thead>\n",
       "  <tbody>\n",
       "    <tr>\n",
       "      <th>0</th>\n",
       "      <td>0</td>\n",
       "      <td>LogisticRegression</td>\n",
       "      <td>0.763441</td>\n",
       "      <td>0.938719</td>\n",
       "    </tr>\n",
       "    <tr>\n",
       "      <th>1</th>\n",
       "      <td>1</td>\n",
       "      <td>LogisticRegression</td>\n",
       "      <td>0.739130</td>\n",
       "      <td>0.952778</td>\n",
       "    </tr>\n",
       "    <tr>\n",
       "      <th>2</th>\n",
       "      <td>2</td>\n",
       "      <td>LogisticRegression</td>\n",
       "      <td>0.739130</td>\n",
       "      <td>0.950000</td>\n",
       "    </tr>\n",
       "    <tr>\n",
       "      <th>3</th>\n",
       "      <td>3</td>\n",
       "      <td>LogisticRegression</td>\n",
       "      <td>0.824176</td>\n",
       "      <td>0.939058</td>\n",
       "    </tr>\n",
       "    <tr>\n",
       "      <th>4</th>\n",
       "      <td>4</td>\n",
       "      <td>LogisticRegression</td>\n",
       "      <td>0.738095</td>\n",
       "      <td>0.953804</td>\n",
       "    </tr>\n",
       "    <tr>\n",
       "      <th>5</th>\n",
       "      <td>0</td>\n",
       "      <td>RandomForestClassifier</td>\n",
       "      <td>0.709677</td>\n",
       "      <td>0.986072</td>\n",
       "    </tr>\n",
       "    <tr>\n",
       "      <th>6</th>\n",
       "      <td>1</td>\n",
       "      <td>RandomForestClassifier</td>\n",
       "      <td>0.771739</td>\n",
       "      <td>0.991667</td>\n",
       "    </tr>\n",
       "    <tr>\n",
       "      <th>7</th>\n",
       "      <td>2</td>\n",
       "      <td>RandomForestClassifier</td>\n",
       "      <td>0.739130</td>\n",
       "      <td>0.991667</td>\n",
       "    </tr>\n",
       "    <tr>\n",
       "      <th>8</th>\n",
       "      <td>3</td>\n",
       "      <td>RandomForestClassifier</td>\n",
       "      <td>0.714286</td>\n",
       "      <td>0.994460</td>\n",
       "    </tr>\n",
       "    <tr>\n",
       "      <th>9</th>\n",
       "      <td>4</td>\n",
       "      <td>RandomForestClassifier</td>\n",
       "      <td>0.690476</td>\n",
       "      <td>0.989130</td>\n",
       "    </tr>\n",
       "    <tr>\n",
       "      <th>10</th>\n",
       "      <td>0</td>\n",
       "      <td>SVC</td>\n",
       "      <td>0.709677</td>\n",
       "      <td>0.871866</td>\n",
       "    </tr>\n",
       "    <tr>\n",
       "      <th>11</th>\n",
       "      <td>1</td>\n",
       "      <td>SVC</td>\n",
       "      <td>0.728261</td>\n",
       "      <td>0.847222</td>\n",
       "    </tr>\n",
       "    <tr>\n",
       "      <th>12</th>\n",
       "      <td>2</td>\n",
       "      <td>SVC</td>\n",
       "      <td>0.684783</td>\n",
       "      <td>0.891667</td>\n",
       "    </tr>\n",
       "    <tr>\n",
       "      <th>13</th>\n",
       "      <td>3</td>\n",
       "      <td>SVC</td>\n",
       "      <td>0.692308</td>\n",
       "      <td>0.853186</td>\n",
       "    </tr>\n",
       "    <tr>\n",
       "      <th>14</th>\n",
       "      <td>4</td>\n",
       "      <td>SVC</td>\n",
       "      <td>0.702381</td>\n",
       "      <td>0.872283</td>\n",
       "    </tr>\n",
       "    <tr>\n",
       "      <th>15</th>\n",
       "      <td>0</td>\n",
       "      <td>GaussianNB</td>\n",
       "      <td>0.462366</td>\n",
       "      <td>0.643454</td>\n",
       "    </tr>\n",
       "    <tr>\n",
       "      <th>16</th>\n",
       "      <td>1</td>\n",
       "      <td>GaussianNB</td>\n",
       "      <td>0.500000</td>\n",
       "      <td>0.641667</td>\n",
       "    </tr>\n",
       "    <tr>\n",
       "      <th>17</th>\n",
       "      <td>2</td>\n",
       "      <td>GaussianNB</td>\n",
       "      <td>0.380435</td>\n",
       "      <td>0.627778</td>\n",
       "    </tr>\n",
       "    <tr>\n",
       "      <th>18</th>\n",
       "      <td>3</td>\n",
       "      <td>GaussianNB</td>\n",
       "      <td>0.450549</td>\n",
       "      <td>0.659280</td>\n",
       "    </tr>\n",
       "    <tr>\n",
       "      <th>19</th>\n",
       "      <td>4</td>\n",
       "      <td>GaussianNB</td>\n",
       "      <td>0.404762</td>\n",
       "      <td>0.633152</td>\n",
       "    </tr>\n",
       "    <tr>\n",
       "      <th>20</th>\n",
       "      <td>0</td>\n",
       "      <td>KNeighborsClassifier</td>\n",
       "      <td>0.645161</td>\n",
       "      <td>0.782730</td>\n",
       "    </tr>\n",
       "    <tr>\n",
       "      <th>21</th>\n",
       "      <td>1</td>\n",
       "      <td>KNeighborsClassifier</td>\n",
       "      <td>0.652174</td>\n",
       "      <td>0.802778</td>\n",
       "    </tr>\n",
       "    <tr>\n",
       "      <th>22</th>\n",
       "      <td>2</td>\n",
       "      <td>KNeighborsClassifier</td>\n",
       "      <td>0.641304</td>\n",
       "      <td>0.805556</td>\n",
       "    </tr>\n",
       "    <tr>\n",
       "      <th>23</th>\n",
       "      <td>3</td>\n",
       "      <td>KNeighborsClassifier</td>\n",
       "      <td>0.681319</td>\n",
       "      <td>0.772853</td>\n",
       "    </tr>\n",
       "    <tr>\n",
       "      <th>24</th>\n",
       "      <td>4</td>\n",
       "      <td>KNeighborsClassifier</td>\n",
       "      <td>0.678571</td>\n",
       "      <td>0.793478</td>\n",
       "    </tr>\n",
       "    <tr>\n",
       "      <th>25</th>\n",
       "      <td>0</td>\n",
       "      <td>DecisionTreeClassifier</td>\n",
       "      <td>0.655914</td>\n",
       "      <td>1.000000</td>\n",
       "    </tr>\n",
       "    <tr>\n",
       "      <th>26</th>\n",
       "      <td>1</td>\n",
       "      <td>DecisionTreeClassifier</td>\n",
       "      <td>0.706522</td>\n",
       "      <td>1.000000</td>\n",
       "    </tr>\n",
       "    <tr>\n",
       "      <th>27</th>\n",
       "      <td>2</td>\n",
       "      <td>DecisionTreeClassifier</td>\n",
       "      <td>0.771739</td>\n",
       "      <td>1.000000</td>\n",
       "    </tr>\n",
       "    <tr>\n",
       "      <th>28</th>\n",
       "      <td>3</td>\n",
       "      <td>DecisionTreeClassifier</td>\n",
       "      <td>0.670330</td>\n",
       "      <td>1.000000</td>\n",
       "    </tr>\n",
       "    <tr>\n",
       "      <th>29</th>\n",
       "      <td>4</td>\n",
       "      <td>DecisionTreeClassifier</td>\n",
       "      <td>0.690476</td>\n",
       "      <td>1.000000</td>\n",
       "    </tr>\n",
       "  </tbody>\n",
       "</table>\n",
       "</div>"
      ],
      "text/plain": [
       "    fold                   model  test_acc  train_acc\n",
       "0      0      LogisticRegression  0.763441   0.938719\n",
       "1      1      LogisticRegression  0.739130   0.952778\n",
       "2      2      LogisticRegression  0.739130   0.950000\n",
       "3      3      LogisticRegression  0.824176   0.939058\n",
       "4      4      LogisticRegression  0.738095   0.953804\n",
       "5      0  RandomForestClassifier  0.709677   0.986072\n",
       "6      1  RandomForestClassifier  0.771739   0.991667\n",
       "7      2  RandomForestClassifier  0.739130   0.991667\n",
       "8      3  RandomForestClassifier  0.714286   0.994460\n",
       "9      4  RandomForestClassifier  0.690476   0.989130\n",
       "10     0                     SVC  0.709677   0.871866\n",
       "11     1                     SVC  0.728261   0.847222\n",
       "12     2                     SVC  0.684783   0.891667\n",
       "13     3                     SVC  0.692308   0.853186\n",
       "14     4                     SVC  0.702381   0.872283\n",
       "15     0              GaussianNB  0.462366   0.643454\n",
       "16     1              GaussianNB  0.500000   0.641667\n",
       "17     2              GaussianNB  0.380435   0.627778\n",
       "18     3              GaussianNB  0.450549   0.659280\n",
       "19     4              GaussianNB  0.404762   0.633152\n",
       "20     0    KNeighborsClassifier  0.645161   0.782730\n",
       "21     1    KNeighborsClassifier  0.652174   0.802778\n",
       "22     2    KNeighborsClassifier  0.641304   0.805556\n",
       "23     3    KNeighborsClassifier  0.681319   0.772853\n",
       "24     4    KNeighborsClassifier  0.678571   0.793478\n",
       "25     0  DecisionTreeClassifier  0.655914   1.000000\n",
       "26     1  DecisionTreeClassifier  0.706522   1.000000\n",
       "27     2  DecisionTreeClassifier  0.771739   1.000000\n",
       "28     3  DecisionTreeClassifier  0.670330   1.000000\n",
       "29     4  DecisionTreeClassifier  0.690476   1.000000"
      ]
     },
     "execution_count": 45,
     "metadata": {},
     "output_type": "execute_result"
    }
   ],
   "source": [
    "res"
   ]
  },
  {
   "cell_type": "code",
   "execution_count": 46,
   "metadata": {},
   "outputs": [
    {
     "data": {
      "text/html": [
       "<div>\n",
       "<style scoped>\n",
       "    .dataframe tbody tr th:only-of-type {\n",
       "        vertical-align: middle;\n",
       "    }\n",
       "\n",
       "    .dataframe tbody tr th {\n",
       "        vertical-align: top;\n",
       "    }\n",
       "\n",
       "    .dataframe thead th {\n",
       "        text-align: right;\n",
       "    }\n",
       "</style>\n",
       "<table border=\"1\" class=\"dataframe\">\n",
       "  <thead>\n",
       "    <tr style=\"text-align: right;\">\n",
       "      <th></th>\n",
       "      <th>train_acc</th>\n",
       "      <th>test_acc</th>\n",
       "    </tr>\n",
       "    <tr>\n",
       "      <th>model</th>\n",
       "      <th></th>\n",
       "      <th></th>\n",
       "    </tr>\n",
       "  </thead>\n",
       "  <tbody>\n",
       "    <tr>\n",
       "      <th>DecisionTreeClassifier</th>\n",
       "      <td>1.000000</td>\n",
       "      <td>0.698996</td>\n",
       "    </tr>\n",
       "    <tr>\n",
       "      <th>GaussianNB</th>\n",
       "      <td>0.641066</td>\n",
       "      <td>0.439622</td>\n",
       "    </tr>\n",
       "    <tr>\n",
       "      <th>KNeighborsClassifier</th>\n",
       "      <td>0.791479</td>\n",
       "      <td>0.659706</td>\n",
       "    </tr>\n",
       "    <tr>\n",
       "      <th>LogisticRegression</th>\n",
       "      <td>0.946872</td>\n",
       "      <td>0.760795</td>\n",
       "    </tr>\n",
       "    <tr>\n",
       "      <th>RandomForestClassifier</th>\n",
       "      <td>0.990599</td>\n",
       "      <td>0.725062</td>\n",
       "    </tr>\n",
       "    <tr>\n",
       "      <th>SVC</th>\n",
       "      <td>0.867245</td>\n",
       "      <td>0.703482</td>\n",
       "    </tr>\n",
       "  </tbody>\n",
       "</table>\n",
       "</div>"
      ],
      "text/plain": [
       "                        train_acc  test_acc\n",
       "model                                      \n",
       "DecisionTreeClassifier   1.000000  0.698996\n",
       "GaussianNB               0.641066  0.439622\n",
       "KNeighborsClassifier     0.791479  0.659706\n",
       "LogisticRegression       0.946872  0.760795\n",
       "RandomForestClassifier   0.990599  0.725062\n",
       "SVC                      0.867245  0.703482"
      ]
     },
     "execution_count": 46,
     "metadata": {},
     "output_type": "execute_result"
    }
   ],
   "source": [
    "res.groupby('model')[['train_acc', 'test_acc']].mean()"
   ]
  },
  {
   "cell_type": "markdown",
   "metadata": {},
   "source": [
    "# Reflecting on Pipeline\n",
    "\n",
    "![Machine Learning Pipeline](ml-pipeline.jpg)"
   ]
  },
  {
   "cell_type": "markdown",
   "metadata": {},
   "source": [
    "# Take away messages\n",
    "\n",
    "- Be cynical about data! \n",
    "- Ensuring that data is in an appropriate form is very important. \n",
    "- Discovering the variety of errors in the data is not easy, depends on the application, and can be present even in fully automated systems. \n",
    "- Using machine learning models on data doesn't have to take too much time, although developing bespoke model classes for specific applications will. \n",
    "- Part of modelling the problem is working with noisy data. "
   ]
  },
  {
   "cell_type": "code",
   "execution_count": null,
   "metadata": {},
   "outputs": [],
   "source": []
  },
  {
   "cell_type": "code",
   "execution_count": null,
   "metadata": {},
   "outputs": [],
   "source": []
  },
  {
   "cell_type": "code",
   "execution_count": null,
   "metadata": {},
   "outputs": [],
   "source": []
  },
  {
   "cell_type": "code",
   "execution_count": null,
   "metadata": {},
   "outputs": [],
   "source": []
  },
  {
   "cell_type": "code",
   "execution_count": null,
   "metadata": {},
   "outputs": [],
   "source": []
  },
  {
   "cell_type": "code",
   "execution_count": null,
   "metadata": {},
   "outputs": [],
   "source": []
  },
  {
   "cell_type": "code",
   "execution_count": null,
   "metadata": {},
   "outputs": [],
   "source": []
  },
  {
   "cell_type": "code",
   "execution_count": null,
   "metadata": {},
   "outputs": [],
   "source": []
  },
  {
   "cell_type": "code",
   "execution_count": null,
   "metadata": {},
   "outputs": [],
   "source": []
  },
  {
   "cell_type": "code",
   "execution_count": null,
   "metadata": {},
   "outputs": [],
   "source": []
  },
  {
   "cell_type": "code",
   "execution_count": null,
   "metadata": {},
   "outputs": [],
   "source": []
  },
  {
   "cell_type": "code",
   "execution_count": null,
   "metadata": {},
   "outputs": [],
   "source": []
  },
  {
   "cell_type": "code",
   "execution_count": null,
   "metadata": {},
   "outputs": [],
   "source": []
  },
  {
   "cell_type": "code",
   "execution_count": null,
   "metadata": {},
   "outputs": [],
   "source": []
  },
  {
   "cell_type": "code",
   "execution_count": null,
   "metadata": {},
   "outputs": [],
   "source": []
  },
  {
   "cell_type": "code",
   "execution_count": null,
   "metadata": {},
   "outputs": [],
   "source": []
  },
  {
   "cell_type": "code",
   "execution_count": null,
   "metadata": {},
   "outputs": [],
   "source": []
  }
 ],
 "metadata": {
  "kernelspec": {
   "display_name": "Python 3",
   "language": "python",
   "name": "python3"
  },
  "language_info": {
   "codemirror_mode": {
    "name": "ipython",
    "version": 3
   },
   "file_extension": ".py",
   "mimetype": "text/x-python",
   "name": "python",
   "nbconvert_exporter": "python",
   "pygments_lexer": "ipython3",
   "version": "3.6.3"
  }
 },
 "nbformat": 4,
 "nbformat_minor": 2
}
